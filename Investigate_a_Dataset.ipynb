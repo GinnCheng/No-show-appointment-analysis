{
 "cells": [
  {
   "cell_type": "markdown",
   "metadata": {
    "tags": []
   },
   "source": [
    "# Project: Investigate a Dataset - [No Show Appointments]\n",
    "\n",
    "## Table of Contents\n",
    "<ul>\n",
    "<li><a href=\"#intro\">Introduction</a></li>\n",
    "<li><a href=\"#wrangling\">Data Wrangling</a></li>\n",
    "<li><a href=\"#eda\">Exploratory Data Analysis</a></li>\n",
    "<li><a href=\"#conclusions\">Conclusions</a></li>\n",
    "</ul>"
   ]
  },
  {
   "cell_type": "markdown",
   "metadata": {},
   "source": [
    "<a id='intro'></a>\n",
    "## Introduction\n",
    "\n",
    "### Dataset Description \n",
    "\n",
    "This code is to complete the first project in Data Analysis Nano Program:\n",
    "    No-show appointments (original source on [Kaggle](https://www.kaggle.com/datasets/joniarroba/noshowappointments))\n",
    "\n",
    "This dataset collects information from 100k medical appointments in Brazil and is focused on the question of whether or not patients show up for their appointment. A number of characteristics about the patient are\n",
    "included in each row where some of them are explained as follows,\n",
    "\n",
    "   * **PatientId** shows the identification of a patient;\n",
    "   * **AppointmentID** shows the dentification of each appointment\n",
    "   * **Gender** Male or Female . Female is the greater proportion, woman takes way more care of they health in comparison to man;\n",
    "   * **ScheduledDay** tells us on what day the patient set up their appointment;\n",
    "   * **AppointmentDay** indicates the appointment day that the patient scheduled;\n",
    "   * **Age** How old is the patient;\n",
    "   * **Neighborhood** indicates the location of the hospital;\n",
    "   * **Scholarship** indicates whether or not the patient is enrolled in Brasilian welfare program [Bolsa Família](https://en.wikipedia.org/wiki/Bolsa_Fam%C3%ADlia);\n",
    "   * **Hipertension** indicates whether a patient has been diagnosed with hypertension or high blood pressure. A value of **1** typically represents that the patient has hypertension, while a value of **0** indicates the absence of hypertension;\n",
    "   * **Diabetes** represents whether a patient has been diagnosed with diabetes. A value of **1** usually indicates that the patient has diabetes, while a value of **0** signifies the absence of diabetes;\n",
    "   * **Alcoholism** indicates whether a patient has been diagnosed with alcoholism or alcohol-related issues. A value of **1** typically represents that the patient has alcoholism, while a value of **0** indicates the absence of alcoholism;\n",
    "   * **Handicap** represents the level of handicap or disability a patient may have. It is often represented by integer values ranging from **0** to **4**, where **0** indicates no handicap and higher values indicate increasing levels of handicap;\n",
    "   * **SMS_received** indicates whether or not a patient received an SMS reminder for their appointment. In the context of the dataset, a value of **1** typically represents that the patient received an SMS reminder, while a value of **0** indicates that the patient did not receive an SMS reminder; and,\n",
    "   * **No-show** indicates **'No'** if the patient showed up to their appointment, and **'Yes'** if they did not show up.\n",
    "\n",
    "### Question(s) for Analysis\n",
    "\n",
    "1. How is the patients' age distributed?\n",
    "2. How is the age_group distributed among the patients in the Brazilian welfare system?\n",
    "3. What is the no-show rate of patients within appointment month, based on whether they received an SMS reminder or not?\n",
    "4. Does the severity of the handicap affect the attendance rate of patients across different age groups?"
   ]
  },
  {
   "cell_type": "code",
   "execution_count": 1,
   "metadata": {
    "tags": []
   },
   "outputs": [],
   "source": [
    "# Use this cell to set up import statements for all of the packages that you\n",
    "#   plan to use.\n",
    "import pandas as pd\n",
    "import numpy as np\n",
    "import seaborn as sns\n",
    "import matplotlib.pyplot as plt\n",
    "%matplotlib inline\n",
    "# While optional for current notebooks, if you are having trouble with visualizations,\n",
    "#   remember to include a 'magic word' so that your visualizations are plotted\n",
    "#   inline with the notebook. See this page for more:\n",
    "#   http://ipython.readthedocs.io/en/stable/interactive/magics.html"
   ]
  },
  {
   "cell_type": "markdown",
   "metadata": {},
   "source": [
    "<a id='wrangling'></a>\n",
    "## Data Wrangling\n",
    "### General Properties"
   ]
  },
  {
   "cell_type": "markdown",
   "metadata": {},
   "source": [
    "#### To obtain the database location"
   ]
  },
  {
   "cell_type": "code",
   "execution_count": 2,
   "metadata": {},
   "outputs": [
    {
     "data": {
      "text/plain": [
       "'/workspace'"
      ]
     },
     "execution_count": 2,
     "metadata": {},
     "output_type": "execute_result"
    }
   ],
   "source": [
    "%pwd"
   ]
  },
  {
   "cell_type": "code",
   "execution_count": 3,
   "metadata": {},
   "outputs": [
    {
     "name": "stdout",
     "output_type": "stream",
     "text": [
      "\u001b[0m\u001b[01;34mDatabase_Ncis_and_Census_data\u001b[0m/  Investigate_a_Dataset.html\r\n",
      "\u001b[01;34mDatabase_No_show_appointments\u001b[0m/  Investigate_a_Dataset.ipynb\r\n",
      "\u001b[01;34mDatabase_TMDb_movie_data\u001b[0m/\r\n"
     ]
    }
   ],
   "source": [
    "%ls"
   ]
  },
  {
   "cell_type": "code",
   "execution_count": 4,
   "metadata": {},
   "outputs": [
    {
     "name": "stdout",
     "output_type": "stream",
     "text": [
      "noshowappointments-kagglev2-may-2016.csv\r\n"
     ]
    }
   ],
   "source": [
    "%ls Database_No_show_appointments"
   ]
  },
  {
   "cell_type": "markdown",
   "metadata": {},
   "source": [
    "#### Load the database"
   ]
  },
  {
   "cell_type": "code",
   "execution_count": 5,
   "metadata": {
    "tags": []
   },
   "outputs": [],
   "source": [
    "# Load your data and print out a few lines. What is the size of your dataframe? \n",
    "#   Perform operations to inspect data types and look for instances of missing\n",
    "#   or possibly errant data. There are at least 4 - 6 methods you can call on your\n",
    "#   dataframe to obtain this information.\n",
    "# set_option in case of too many columns\n",
    "pd.set_option('display.max_columns', None)"
   ]
  },
  {
   "cell_type": "code",
   "execution_count": 6,
   "metadata": {},
   "outputs": [],
   "source": [
    "# list the data location\n",
    "data_dir  = 'Database_No_show_appointments/'\n",
    "data_name = 'noshowappointments-kagglev2-may-2016.csv'"
   ]
  },
  {
   "cell_type": "code",
   "execution_count": 7,
   "metadata": {},
   "outputs": [
    {
     "data": {
      "text/html": [
       "<div>\n",
       "<style scoped>\n",
       "    .dataframe tbody tr th:only-of-type {\n",
       "        vertical-align: middle;\n",
       "    }\n",
       "\n",
       "    .dataframe tbody tr th {\n",
       "        vertical-align: top;\n",
       "    }\n",
       "\n",
       "    .dataframe thead th {\n",
       "        text-align: right;\n",
       "    }\n",
       "</style>\n",
       "<table border=\"1\" class=\"dataframe\">\n",
       "  <thead>\n",
       "    <tr style=\"text-align: right;\">\n",
       "      <th></th>\n",
       "      <th>PatientId</th>\n",
       "      <th>AppointmentID</th>\n",
       "      <th>Gender</th>\n",
       "      <th>ScheduledDay</th>\n",
       "      <th>AppointmentDay</th>\n",
       "      <th>Age</th>\n",
       "      <th>Neighbourhood</th>\n",
       "      <th>Scholarship</th>\n",
       "      <th>Hipertension</th>\n",
       "      <th>Diabetes</th>\n",
       "      <th>Alcoholism</th>\n",
       "      <th>Handcap</th>\n",
       "      <th>SMS_received</th>\n",
       "      <th>No-show</th>\n",
       "    </tr>\n",
       "  </thead>\n",
       "  <tbody>\n",
       "    <tr>\n",
       "      <th>0</th>\n",
       "      <td>2.987250e+13</td>\n",
       "      <td>5642903</td>\n",
       "      <td>F</td>\n",
       "      <td>2016-04-29T18:38:08Z</td>\n",
       "      <td>2016-04-29T00:00:00Z</td>\n",
       "      <td>62</td>\n",
       "      <td>JARDIM DA PENHA</td>\n",
       "      <td>0</td>\n",
       "      <td>1</td>\n",
       "      <td>0</td>\n",
       "      <td>0</td>\n",
       "      <td>0</td>\n",
       "      <td>0</td>\n",
       "      <td>No</td>\n",
       "    </tr>\n",
       "    <tr>\n",
       "      <th>1</th>\n",
       "      <td>5.589978e+14</td>\n",
       "      <td>5642503</td>\n",
       "      <td>M</td>\n",
       "      <td>2016-04-29T16:08:27Z</td>\n",
       "      <td>2016-04-29T00:00:00Z</td>\n",
       "      <td>56</td>\n",
       "      <td>JARDIM DA PENHA</td>\n",
       "      <td>0</td>\n",
       "      <td>0</td>\n",
       "      <td>0</td>\n",
       "      <td>0</td>\n",
       "      <td>0</td>\n",
       "      <td>0</td>\n",
       "      <td>No</td>\n",
       "    </tr>\n",
       "    <tr>\n",
       "      <th>2</th>\n",
       "      <td>4.262962e+12</td>\n",
       "      <td>5642549</td>\n",
       "      <td>F</td>\n",
       "      <td>2016-04-29T16:19:04Z</td>\n",
       "      <td>2016-04-29T00:00:00Z</td>\n",
       "      <td>62</td>\n",
       "      <td>MATA DA PRAIA</td>\n",
       "      <td>0</td>\n",
       "      <td>0</td>\n",
       "      <td>0</td>\n",
       "      <td>0</td>\n",
       "      <td>0</td>\n",
       "      <td>0</td>\n",
       "      <td>No</td>\n",
       "    </tr>\n",
       "    <tr>\n",
       "      <th>3</th>\n",
       "      <td>8.679512e+11</td>\n",
       "      <td>5642828</td>\n",
       "      <td>F</td>\n",
       "      <td>2016-04-29T17:29:31Z</td>\n",
       "      <td>2016-04-29T00:00:00Z</td>\n",
       "      <td>8</td>\n",
       "      <td>PONTAL DE CAMBURI</td>\n",
       "      <td>0</td>\n",
       "      <td>0</td>\n",
       "      <td>0</td>\n",
       "      <td>0</td>\n",
       "      <td>0</td>\n",
       "      <td>0</td>\n",
       "      <td>No</td>\n",
       "    </tr>\n",
       "    <tr>\n",
       "      <th>4</th>\n",
       "      <td>8.841186e+12</td>\n",
       "      <td>5642494</td>\n",
       "      <td>F</td>\n",
       "      <td>2016-04-29T16:07:23Z</td>\n",
       "      <td>2016-04-29T00:00:00Z</td>\n",
       "      <td>56</td>\n",
       "      <td>JARDIM DA PENHA</td>\n",
       "      <td>0</td>\n",
       "      <td>1</td>\n",
       "      <td>1</td>\n",
       "      <td>0</td>\n",
       "      <td>0</td>\n",
       "      <td>0</td>\n",
       "      <td>No</td>\n",
       "    </tr>\n",
       "  </tbody>\n",
       "</table>\n",
       "</div>"
      ],
      "text/plain": [
       "      PatientId  AppointmentID Gender          ScheduledDay  \\\n",
       "0  2.987250e+13        5642903      F  2016-04-29T18:38:08Z   \n",
       "1  5.589978e+14        5642503      M  2016-04-29T16:08:27Z   \n",
       "2  4.262962e+12        5642549      F  2016-04-29T16:19:04Z   \n",
       "3  8.679512e+11        5642828      F  2016-04-29T17:29:31Z   \n",
       "4  8.841186e+12        5642494      F  2016-04-29T16:07:23Z   \n",
       "\n",
       "         AppointmentDay  Age      Neighbourhood  Scholarship  Hipertension  \\\n",
       "0  2016-04-29T00:00:00Z   62    JARDIM DA PENHA            0             1   \n",
       "1  2016-04-29T00:00:00Z   56    JARDIM DA PENHA            0             0   \n",
       "2  2016-04-29T00:00:00Z   62      MATA DA PRAIA            0             0   \n",
       "3  2016-04-29T00:00:00Z    8  PONTAL DE CAMBURI            0             0   \n",
       "4  2016-04-29T00:00:00Z   56    JARDIM DA PENHA            0             1   \n",
       "\n",
       "   Diabetes  Alcoholism  Handcap  SMS_received No-show  \n",
       "0         0           0        0             0      No  \n",
       "1         0           0        0             0      No  \n",
       "2         0           0        0             0      No  \n",
       "3         0           0        0             0      No  \n",
       "4         1           0        0             0      No  "
      ]
     },
     "execution_count": 7,
     "metadata": {},
     "output_type": "execute_result"
    }
   ],
   "source": [
    "# load the data\n",
    "df = pd.read_csv(data_dir+data_name)\n",
    "df.head()"
   ]
  },
  {
   "cell_type": "code",
   "execution_count": 8,
   "metadata": {},
   "outputs": [
    {
     "name": "stdout",
     "output_type": "stream",
     "text": [
      "<class 'pandas.core.frame.DataFrame'>\n",
      "RangeIndex: 110527 entries, 0 to 110526\n",
      "Data columns (total 14 columns):\n",
      " #   Column          Non-Null Count   Dtype  \n",
      "---  ------          --------------   -----  \n",
      " 0   PatientId       110527 non-null  float64\n",
      " 1   AppointmentID   110527 non-null  int64  \n",
      " 2   Gender          110527 non-null  object \n",
      " 3   ScheduledDay    110527 non-null  object \n",
      " 4   AppointmentDay  110527 non-null  object \n",
      " 5   Age             110527 non-null  int64  \n",
      " 6   Neighbourhood   110527 non-null  object \n",
      " 7   Scholarship     110527 non-null  int64  \n",
      " 8   Hipertension    110527 non-null  int64  \n",
      " 9   Diabetes        110527 non-null  int64  \n",
      " 10  Alcoholism      110527 non-null  int64  \n",
      " 11  Handcap         110527 non-null  int64  \n",
      " 12  SMS_received    110527 non-null  int64  \n",
      " 13  No-show         110527 non-null  object \n",
      "dtypes: float64(1), int64(8), object(5)\n",
      "memory usage: 11.8+ MB\n"
     ]
    }
   ],
   "source": [
    "# look at the information of the source data\n",
    "df.info()"
   ]
  },
  {
   "cell_type": "code",
   "execution_count": 9,
   "metadata": {
    "scrolled": true
   },
   "outputs": [
    {
     "data": {
      "text/plain": [
       "PatientId          62299\n",
       "AppointmentID     110527\n",
       "Gender                 2\n",
       "ScheduledDay      103549\n",
       "AppointmentDay        27\n",
       "Age                  104\n",
       "Neighbourhood         81\n",
       "Scholarship            2\n",
       "Hipertension           2\n",
       "Diabetes               2\n",
       "Alcoholism             2\n",
       "Handcap                5\n",
       "SMS_received           2\n",
       "No-show                2\n",
       "dtype: int64"
      ]
     },
     "execution_count": 9,
     "metadata": {},
     "output_type": "execute_result"
    }
   ],
   "source": [
    "# check the number of unique values in each column\n",
    "df.nunique()"
   ]
  },
  {
   "cell_type": "markdown",
   "metadata": {},
   "source": [
    "#### Check all the unique values in each column"
   ]
  },
  {
   "cell_type": "code",
   "execution_count": 10,
   "metadata": {},
   "outputs": [
    {
     "name": "stdout",
     "output_type": "stream",
     "text": [
      "PatientId , [2.98724998e+13 5.58997777e+14 4.26296230e+12 ... 7.26331493e+13\n",
      " 9.96997666e+14 1.55766317e+13]\n",
      "AppointmentID , [5642903 5642503 5642549 ... 5630692 5630323 5629448]\n",
      "Gender , ['F' 'M']\n",
      "ScheduledDay , ['2016-04-29T18:38:08Z' '2016-04-29T16:08:27Z' '2016-04-29T16:19:04Z' ...\n",
      " '2016-04-27T16:03:52Z' '2016-04-27T15:09:23Z' '2016-04-27T13:30:56Z']\n",
      "AppointmentDay , ['2016-04-29T00:00:00Z' '2016-05-03T00:00:00Z' '2016-05-10T00:00:00Z'\n",
      " '2016-05-17T00:00:00Z' '2016-05-24T00:00:00Z' '2016-05-31T00:00:00Z'\n",
      " '2016-05-02T00:00:00Z' '2016-05-30T00:00:00Z' '2016-05-16T00:00:00Z'\n",
      " '2016-05-04T00:00:00Z' '2016-05-19T00:00:00Z' '2016-05-12T00:00:00Z'\n",
      " '2016-05-06T00:00:00Z' '2016-05-20T00:00:00Z' '2016-05-05T00:00:00Z'\n",
      " '2016-05-13T00:00:00Z' '2016-05-09T00:00:00Z' '2016-05-25T00:00:00Z'\n",
      " '2016-05-11T00:00:00Z' '2016-05-18T00:00:00Z' '2016-05-14T00:00:00Z'\n",
      " '2016-06-02T00:00:00Z' '2016-06-03T00:00:00Z' '2016-06-06T00:00:00Z'\n",
      " '2016-06-07T00:00:00Z' '2016-06-01T00:00:00Z' '2016-06-08T00:00:00Z']\n",
      "Age , [ 62  56   8  76  23  39  21  19  30  29  22  28  54  15  50  40  46   4\n",
      "  13  65  45  51  32  12  61  38  79  18  63  64  85  59  55  71  49  78\n",
      "  31  58  27   6   2  11   7   0   3   1  69  68  60  67  36  10  35  20\n",
      "  26  34  33  16  42   5  47  17  41  44  37  24  66  77  81  70  53  75\n",
      "  73  52  74  43  89  57  14   9  48  83  72  25  80  87  88  84  82  90\n",
      "  94  86  91  98  92  96  93  95  97 102 115 100  99  -1]\n",
      "Neighbourhood , ['JARDIM DA PENHA' 'MATA DA PRAIA' 'PONTAL DE CAMBURI' 'REPÚBLICA'\n",
      " 'GOIABEIRAS' 'ANDORINHAS' 'CONQUISTA' 'NOVA PALESTINA' 'DA PENHA'\n",
      " 'TABUAZEIRO' 'BENTO FERREIRA' 'SÃO PEDRO' 'SANTA MARTHA' 'SÃO CRISTÓVÃO'\n",
      " 'MARUÍPE' 'GRANDE VITÓRIA' 'SÃO BENEDITO' 'ILHA DAS CAIEIRAS'\n",
      " 'SANTO ANDRÉ' 'SOLON BORGES' 'BONFIM' 'JARDIM CAMBURI' 'MARIA ORTIZ'\n",
      " 'JABOUR' 'ANTÔNIO HONÓRIO' 'RESISTÊNCIA' 'ILHA DE SANTA MARIA'\n",
      " 'JUCUTUQUARA' 'MONTE BELO' 'MÁRIO CYPRESTE' 'SANTO ANTÔNIO' 'BELA VISTA'\n",
      " 'PRAIA DO SUÁ' 'SANTA HELENA' 'ITARARÉ' 'INHANGUETÁ' 'UNIVERSITÁRIO'\n",
      " 'SÃO JOSÉ' 'REDENÇÃO' 'SANTA CLARA' 'CENTRO' 'PARQUE MOSCOSO'\n",
      " 'DO MOSCOSO' 'SANTOS DUMONT' 'CARATOÍRA' 'ARIOVALDO FAVALESSA'\n",
      " 'ILHA DO FRADE' 'GURIGICA' 'JOANA D´ARC' 'CONSOLAÇÃO' 'PRAIA DO CANTO'\n",
      " 'BOA VISTA' 'MORADA DE CAMBURI' 'SANTA LUÍZA' 'SANTA LÚCIA'\n",
      " 'BARRO VERMELHO' 'ESTRELINHA' 'FORTE SÃO JOÃO' 'FONTE GRANDE'\n",
      " 'ENSEADA DO SUÁ' 'SANTOS REIS' 'PIEDADE' 'JESUS DE NAZARETH'\n",
      " 'SANTA TEREZA' 'CRUZAMENTO' 'ILHA DO PRÍNCIPE' 'ROMÃO' 'COMDUSA'\n",
      " 'SANTA CECÍLIA' 'VILA RUBIM' 'DE LOURDES' 'DO QUADRO' 'DO CABRAL' 'HORTO'\n",
      " 'SEGURANÇA DO LAR' 'ILHA DO BOI' 'FRADINHOS' 'NAZARETH' 'AEROPORTO'\n",
      " 'ILHAS OCEÂNICAS DE TRINDADE' 'PARQUE INDUSTRIAL']\n",
      "Scholarship , [0 1]\n",
      "Hipertension , [1 0]\n",
      "Diabetes , [0 1]\n",
      "Alcoholism , [0 1]\n",
      "Handcap , [0 1 2 3 4]\n",
      "SMS_received , [0 1]\n",
      "No-show , ['No' 'Yes']\n"
     ]
    }
   ],
   "source": [
    "for col in df.columns:\n",
    "    print(col, ',', df[col].unique())"
   ]
  },
  {
   "cell_type": "markdown",
   "metadata": {},
   "source": [
    "#### Although there is no null value in the database, there is an invalid age \"-1\""
   ]
  },
  {
   "cell_type": "code",
   "execution_count": 11,
   "metadata": {},
   "outputs": [
    {
     "data": {
      "text/plain": [
       " 0      3539\n",
       " 1      2273\n",
       " 52     1746\n",
       " 49     1652\n",
       " 53     1651\n",
       "        ... \n",
       " 115       5\n",
       " 100       4\n",
       " 102       2\n",
       " 99        1\n",
       "-1         1\n",
       "Name: Age, Length: 104, dtype: int64"
      ]
     },
     "execution_count": 11,
     "metadata": {},
     "output_type": "execute_result"
    }
   ],
   "source": [
    "# check how many rows that have invalid age\n",
    "df['Age'].value_counts()"
   ]
  },
  {
   "cell_type": "code",
   "execution_count": 12,
   "metadata": {},
   "outputs": [
    {
     "data": {
      "text/html": [
       "<div>\n",
       "<style scoped>\n",
       "    .dataframe tbody tr th:only-of-type {\n",
       "        vertical-align: middle;\n",
       "    }\n",
       "\n",
       "    .dataframe tbody tr th {\n",
       "        vertical-align: top;\n",
       "    }\n",
       "\n",
       "    .dataframe thead th {\n",
       "        text-align: right;\n",
       "    }\n",
       "</style>\n",
       "<table border=\"1\" class=\"dataframe\">\n",
       "  <thead>\n",
       "    <tr style=\"text-align: right;\">\n",
       "      <th></th>\n",
       "      <th>PatientId</th>\n",
       "      <th>AppointmentID</th>\n",
       "      <th>Gender</th>\n",
       "      <th>ScheduledDay</th>\n",
       "      <th>AppointmentDay</th>\n",
       "      <th>Age</th>\n",
       "      <th>Neighbourhood</th>\n",
       "      <th>Scholarship</th>\n",
       "      <th>Hipertension</th>\n",
       "      <th>Diabetes</th>\n",
       "      <th>Alcoholism</th>\n",
       "      <th>Handcap</th>\n",
       "      <th>SMS_received</th>\n",
       "      <th>No-show</th>\n",
       "    </tr>\n",
       "  </thead>\n",
       "  <tbody>\n",
       "    <tr>\n",
       "      <th>99832</th>\n",
       "      <td>4.659432e+14</td>\n",
       "      <td>5775010</td>\n",
       "      <td>F</td>\n",
       "      <td>2016-06-06T08:58:13Z</td>\n",
       "      <td>2016-06-06T00:00:00Z</td>\n",
       "      <td>-1</td>\n",
       "      <td>ROMÃO</td>\n",
       "      <td>0</td>\n",
       "      <td>0</td>\n",
       "      <td>0</td>\n",
       "      <td>0</td>\n",
       "      <td>0</td>\n",
       "      <td>0</td>\n",
       "      <td>No</td>\n",
       "    </tr>\n",
       "  </tbody>\n",
       "</table>\n",
       "</div>"
      ],
      "text/plain": [
       "          PatientId  AppointmentID Gender          ScheduledDay  \\\n",
       "99832  4.659432e+14        5775010      F  2016-06-06T08:58:13Z   \n",
       "\n",
       "             AppointmentDay  Age Neighbourhood  Scholarship  Hipertension  \\\n",
       "99832  2016-06-06T00:00:00Z   -1         ROMÃO            0             0   \n",
       "\n",
       "       Diabetes  Alcoholism  Handcap  SMS_received No-show  \n",
       "99832         0           0        0             0      No  "
      ]
     },
     "execution_count": 12,
     "metadata": {},
     "output_type": "execute_result"
    }
   ],
   "source": [
    "df[df['Age'] == -1]"
   ]
  },
  {
   "cell_type": "markdown",
   "metadata": {},
   "source": [
    "#### Since there is only one patient's age missing and there are 2215 rows from **'ROMÃO'**. It is not expected to have a significant effect on the results when dropping this row."
   ]
  },
  {
   "cell_type": "code",
   "execution_count": 13,
   "metadata": {},
   "outputs": [
    {
     "data": {
      "text/plain": [
       "PatientId         2215\n",
       "AppointmentID     2215\n",
       "Gender            2215\n",
       "ScheduledDay      2215\n",
       "AppointmentDay    2215\n",
       "Age               2215\n",
       "Neighbourhood     2215\n",
       "Scholarship       2215\n",
       "Hipertension      2215\n",
       "Diabetes          2215\n",
       "Alcoholism        2215\n",
       "Handcap           2215\n",
       "SMS_received      2215\n",
       "No-show           2215\n",
       "dtype: int64"
      ]
     },
     "execution_count": 13,
     "metadata": {},
     "output_type": "execute_result"
    }
   ],
   "source": [
    "df[df['Neighbourhood'] == 'ROMÃO'].count()"
   ]
  },
  {
   "cell_type": "markdown",
   "metadata": {},
   "source": [
    "#### Double check any null, duplicates and general statistics"
   ]
  },
  {
   "cell_type": "code",
   "execution_count": 14,
   "metadata": {},
   "outputs": [
    {
     "data": {
      "text/plain": [
       "0"
      ]
     },
     "execution_count": 14,
     "metadata": {},
     "output_type": "execute_result"
    }
   ],
   "source": [
    "df.duplicated().sum()"
   ]
  },
  {
   "cell_type": "code",
   "execution_count": 15,
   "metadata": {},
   "outputs": [
    {
     "data": {
      "text/plain": [
       "PatientId         0\n",
       "AppointmentID     0\n",
       "Gender            0\n",
       "ScheduledDay      0\n",
       "AppointmentDay    0\n",
       "Age               0\n",
       "Neighbourhood     0\n",
       "Scholarship       0\n",
       "Hipertension      0\n",
       "Diabetes          0\n",
       "Alcoholism        0\n",
       "Handcap           0\n",
       "SMS_received      0\n",
       "No-show           0\n",
       "dtype: int64"
      ]
     },
     "execution_count": 15,
     "metadata": {},
     "output_type": "execute_result"
    }
   ],
   "source": [
    "df.isnull().sum()"
   ]
  },
  {
   "cell_type": "code",
   "execution_count": 16,
   "metadata": {},
   "outputs": [
    {
     "data": {
      "text/html": [
       "<div>\n",
       "<style scoped>\n",
       "    .dataframe tbody tr th:only-of-type {\n",
       "        vertical-align: middle;\n",
       "    }\n",
       "\n",
       "    .dataframe tbody tr th {\n",
       "        vertical-align: top;\n",
       "    }\n",
       "\n",
       "    .dataframe thead th {\n",
       "        text-align: right;\n",
       "    }\n",
       "</style>\n",
       "<table border=\"1\" class=\"dataframe\">\n",
       "  <thead>\n",
       "    <tr style=\"text-align: right;\">\n",
       "      <th></th>\n",
       "      <th>count</th>\n",
       "      <th>mean</th>\n",
       "      <th>std</th>\n",
       "      <th>min</th>\n",
       "      <th>25%</th>\n",
       "      <th>50%</th>\n",
       "      <th>75%</th>\n",
       "      <th>max</th>\n",
       "    </tr>\n",
       "  </thead>\n",
       "  <tbody>\n",
       "    <tr>\n",
       "      <th>PatientId</th>\n",
       "      <td>110527.0</td>\n",
       "      <td>1.474963e+14</td>\n",
       "      <td>2.560949e+14</td>\n",
       "      <td>3.921784e+04</td>\n",
       "      <td>4.172614e+12</td>\n",
       "      <td>3.173184e+13</td>\n",
       "      <td>9.439172e+13</td>\n",
       "      <td>9.999816e+14</td>\n",
       "    </tr>\n",
       "    <tr>\n",
       "      <th>AppointmentID</th>\n",
       "      <td>110527.0</td>\n",
       "      <td>5.675305e+06</td>\n",
       "      <td>7.129575e+04</td>\n",
       "      <td>5.030230e+06</td>\n",
       "      <td>5.640286e+06</td>\n",
       "      <td>5.680573e+06</td>\n",
       "      <td>5.725524e+06</td>\n",
       "      <td>5.790484e+06</td>\n",
       "    </tr>\n",
       "    <tr>\n",
       "      <th>Age</th>\n",
       "      <td>110527.0</td>\n",
       "      <td>3.708887e+01</td>\n",
       "      <td>2.311020e+01</td>\n",
       "      <td>-1.000000e+00</td>\n",
       "      <td>1.800000e+01</td>\n",
       "      <td>3.700000e+01</td>\n",
       "      <td>5.500000e+01</td>\n",
       "      <td>1.150000e+02</td>\n",
       "    </tr>\n",
       "    <tr>\n",
       "      <th>Scholarship</th>\n",
       "      <td>110527.0</td>\n",
       "      <td>9.826558e-02</td>\n",
       "      <td>2.976748e-01</td>\n",
       "      <td>0.000000e+00</td>\n",
       "      <td>0.000000e+00</td>\n",
       "      <td>0.000000e+00</td>\n",
       "      <td>0.000000e+00</td>\n",
       "      <td>1.000000e+00</td>\n",
       "    </tr>\n",
       "    <tr>\n",
       "      <th>Hipertension</th>\n",
       "      <td>110527.0</td>\n",
       "      <td>1.972459e-01</td>\n",
       "      <td>3.979213e-01</td>\n",
       "      <td>0.000000e+00</td>\n",
       "      <td>0.000000e+00</td>\n",
       "      <td>0.000000e+00</td>\n",
       "      <td>0.000000e+00</td>\n",
       "      <td>1.000000e+00</td>\n",
       "    </tr>\n",
       "    <tr>\n",
       "      <th>Diabetes</th>\n",
       "      <td>110527.0</td>\n",
       "      <td>7.186479e-02</td>\n",
       "      <td>2.582651e-01</td>\n",
       "      <td>0.000000e+00</td>\n",
       "      <td>0.000000e+00</td>\n",
       "      <td>0.000000e+00</td>\n",
       "      <td>0.000000e+00</td>\n",
       "      <td>1.000000e+00</td>\n",
       "    </tr>\n",
       "    <tr>\n",
       "      <th>Alcoholism</th>\n",
       "      <td>110527.0</td>\n",
       "      <td>3.039981e-02</td>\n",
       "      <td>1.716856e-01</td>\n",
       "      <td>0.000000e+00</td>\n",
       "      <td>0.000000e+00</td>\n",
       "      <td>0.000000e+00</td>\n",
       "      <td>0.000000e+00</td>\n",
       "      <td>1.000000e+00</td>\n",
       "    </tr>\n",
       "    <tr>\n",
       "      <th>Handcap</th>\n",
       "      <td>110527.0</td>\n",
       "      <td>2.224796e-02</td>\n",
       "      <td>1.615427e-01</td>\n",
       "      <td>0.000000e+00</td>\n",
       "      <td>0.000000e+00</td>\n",
       "      <td>0.000000e+00</td>\n",
       "      <td>0.000000e+00</td>\n",
       "      <td>4.000000e+00</td>\n",
       "    </tr>\n",
       "    <tr>\n",
       "      <th>SMS_received</th>\n",
       "      <td>110527.0</td>\n",
       "      <td>3.210256e-01</td>\n",
       "      <td>4.668727e-01</td>\n",
       "      <td>0.000000e+00</td>\n",
       "      <td>0.000000e+00</td>\n",
       "      <td>0.000000e+00</td>\n",
       "      <td>1.000000e+00</td>\n",
       "      <td>1.000000e+00</td>\n",
       "    </tr>\n",
       "  </tbody>\n",
       "</table>\n",
       "</div>"
      ],
      "text/plain": [
       "                  count          mean           std           min  \\\n",
       "PatientId      110527.0  1.474963e+14  2.560949e+14  3.921784e+04   \n",
       "AppointmentID  110527.0  5.675305e+06  7.129575e+04  5.030230e+06   \n",
       "Age            110527.0  3.708887e+01  2.311020e+01 -1.000000e+00   \n",
       "Scholarship    110527.0  9.826558e-02  2.976748e-01  0.000000e+00   \n",
       "Hipertension   110527.0  1.972459e-01  3.979213e-01  0.000000e+00   \n",
       "Diabetes       110527.0  7.186479e-02  2.582651e-01  0.000000e+00   \n",
       "Alcoholism     110527.0  3.039981e-02  1.716856e-01  0.000000e+00   \n",
       "Handcap        110527.0  2.224796e-02  1.615427e-01  0.000000e+00   \n",
       "SMS_received   110527.0  3.210256e-01  4.668727e-01  0.000000e+00   \n",
       "\n",
       "                        25%           50%           75%           max  \n",
       "PatientId      4.172614e+12  3.173184e+13  9.439172e+13  9.999816e+14  \n",
       "AppointmentID  5.640286e+06  5.680573e+06  5.725524e+06  5.790484e+06  \n",
       "Age            1.800000e+01  3.700000e+01  5.500000e+01  1.150000e+02  \n",
       "Scholarship    0.000000e+00  0.000000e+00  0.000000e+00  1.000000e+00  \n",
       "Hipertension   0.000000e+00  0.000000e+00  0.000000e+00  1.000000e+00  \n",
       "Diabetes       0.000000e+00  0.000000e+00  0.000000e+00  1.000000e+00  \n",
       "Alcoholism     0.000000e+00  0.000000e+00  0.000000e+00  1.000000e+00  \n",
       "Handcap        0.000000e+00  0.000000e+00  0.000000e+00  4.000000e+00  \n",
       "SMS_received   0.000000e+00  0.000000e+00  1.000000e+00  1.000000e+00  "
      ]
     },
     "execution_count": 16,
     "metadata": {},
     "output_type": "execute_result"
    }
   ],
   "source": [
    "df.describe().T"
   ]
  },
  {
   "cell_type": "code",
   "execution_count": null,
   "metadata": {},
   "outputs": [],
   "source": []
  },
  {
   "cell_type": "code",
   "execution_count": null,
   "metadata": {},
   "outputs": [],
   "source": []
  },
  {
   "cell_type": "markdown",
   "metadata": {},
   "source": [
    "### Data Cleaning "
   ]
  },
  {
   "cell_type": "markdown",
   "metadata": {},
   "source": [
    "#### Drop row with an invalid age value"
   ]
  },
  {
   "cell_type": "code",
   "execution_count": 17,
   "metadata": {
    "tags": []
   },
   "outputs": [],
   "source": [
    "# After discussing the structure of the data and any problems that need to be\n",
    "#   cleaned, perform those cleaning steps in the second part of this section.\n",
    "# dropping the row\n",
    "df.drop(df[df['Age'] == -1].index, axis=0, inplace=True)"
   ]
  },
  {
   "cell_type": "code",
   "execution_count": 18,
   "metadata": {},
   "outputs": [
    {
     "data": {
      "text/html": [
       "<div>\n",
       "<style scoped>\n",
       "    .dataframe tbody tr th:only-of-type {\n",
       "        vertical-align: middle;\n",
       "    }\n",
       "\n",
       "    .dataframe tbody tr th {\n",
       "        vertical-align: top;\n",
       "    }\n",
       "\n",
       "    .dataframe thead th {\n",
       "        text-align: right;\n",
       "    }\n",
       "</style>\n",
       "<table border=\"1\" class=\"dataframe\">\n",
       "  <thead>\n",
       "    <tr style=\"text-align: right;\">\n",
       "      <th></th>\n",
       "      <th>count</th>\n",
       "      <th>mean</th>\n",
       "      <th>std</th>\n",
       "      <th>min</th>\n",
       "      <th>25%</th>\n",
       "      <th>50%</th>\n",
       "      <th>75%</th>\n",
       "      <th>max</th>\n",
       "    </tr>\n",
       "  </thead>\n",
       "  <tbody>\n",
       "    <tr>\n",
       "      <th>PatientId</th>\n",
       "      <td>110526.0</td>\n",
       "      <td>1.474934e+14</td>\n",
       "      <td>2.560943e+14</td>\n",
       "      <td>3.921784e+04</td>\n",
       "      <td>4.172536e+12</td>\n",
       "      <td>3.173184e+13</td>\n",
       "      <td>9.438963e+13</td>\n",
       "      <td>9.999816e+14</td>\n",
       "    </tr>\n",
       "    <tr>\n",
       "      <th>AppointmentID</th>\n",
       "      <td>110526.0</td>\n",
       "      <td>5.675304e+06</td>\n",
       "      <td>7.129544e+04</td>\n",
       "      <td>5.030230e+06</td>\n",
       "      <td>5.640285e+06</td>\n",
       "      <td>5.680572e+06</td>\n",
       "      <td>5.725523e+06</td>\n",
       "      <td>5.790484e+06</td>\n",
       "    </tr>\n",
       "    <tr>\n",
       "      <th>Age</th>\n",
       "      <td>110526.0</td>\n",
       "      <td>3.708922e+01</td>\n",
       "      <td>2.311003e+01</td>\n",
       "      <td>0.000000e+00</td>\n",
       "      <td>1.800000e+01</td>\n",
       "      <td>3.700000e+01</td>\n",
       "      <td>5.500000e+01</td>\n",
       "      <td>1.150000e+02</td>\n",
       "    </tr>\n",
       "    <tr>\n",
       "      <th>Scholarship</th>\n",
       "      <td>110526.0</td>\n",
       "      <td>9.826647e-02</td>\n",
       "      <td>2.976760e-01</td>\n",
       "      <td>0.000000e+00</td>\n",
       "      <td>0.000000e+00</td>\n",
       "      <td>0.000000e+00</td>\n",
       "      <td>0.000000e+00</td>\n",
       "      <td>1.000000e+00</td>\n",
       "    </tr>\n",
       "    <tr>\n",
       "      <th>Hipertension</th>\n",
       "      <td>110526.0</td>\n",
       "      <td>1.972477e-01</td>\n",
       "      <td>3.979227e-01</td>\n",
       "      <td>0.000000e+00</td>\n",
       "      <td>0.000000e+00</td>\n",
       "      <td>0.000000e+00</td>\n",
       "      <td>0.000000e+00</td>\n",
       "      <td>1.000000e+00</td>\n",
       "    </tr>\n",
       "    <tr>\n",
       "      <th>Diabetes</th>\n",
       "      <td>110526.0</td>\n",
       "      <td>7.186544e-02</td>\n",
       "      <td>2.582662e-01</td>\n",
       "      <td>0.000000e+00</td>\n",
       "      <td>0.000000e+00</td>\n",
       "      <td>0.000000e+00</td>\n",
       "      <td>0.000000e+00</td>\n",
       "      <td>1.000000e+00</td>\n",
       "    </tr>\n",
       "    <tr>\n",
       "      <th>Alcoholism</th>\n",
       "      <td>110526.0</td>\n",
       "      <td>3.040009e-02</td>\n",
       "      <td>1.716863e-01</td>\n",
       "      <td>0.000000e+00</td>\n",
       "      <td>0.000000e+00</td>\n",
       "      <td>0.000000e+00</td>\n",
       "      <td>0.000000e+00</td>\n",
       "      <td>1.000000e+00</td>\n",
       "    </tr>\n",
       "    <tr>\n",
       "      <th>Handcap</th>\n",
       "      <td>110526.0</td>\n",
       "      <td>2.224816e-02</td>\n",
       "      <td>1.615434e-01</td>\n",
       "      <td>0.000000e+00</td>\n",
       "      <td>0.000000e+00</td>\n",
       "      <td>0.000000e+00</td>\n",
       "      <td>0.000000e+00</td>\n",
       "      <td>4.000000e+00</td>\n",
       "    </tr>\n",
       "    <tr>\n",
       "      <th>SMS_received</th>\n",
       "      <td>110526.0</td>\n",
       "      <td>3.210285e-01</td>\n",
       "      <td>4.668738e-01</td>\n",
       "      <td>0.000000e+00</td>\n",
       "      <td>0.000000e+00</td>\n",
       "      <td>0.000000e+00</td>\n",
       "      <td>1.000000e+00</td>\n",
       "      <td>1.000000e+00</td>\n",
       "    </tr>\n",
       "  </tbody>\n",
       "</table>\n",
       "</div>"
      ],
      "text/plain": [
       "                  count          mean           std           min  \\\n",
       "PatientId      110526.0  1.474934e+14  2.560943e+14  3.921784e+04   \n",
       "AppointmentID  110526.0  5.675304e+06  7.129544e+04  5.030230e+06   \n",
       "Age            110526.0  3.708922e+01  2.311003e+01  0.000000e+00   \n",
       "Scholarship    110526.0  9.826647e-02  2.976760e-01  0.000000e+00   \n",
       "Hipertension   110526.0  1.972477e-01  3.979227e-01  0.000000e+00   \n",
       "Diabetes       110526.0  7.186544e-02  2.582662e-01  0.000000e+00   \n",
       "Alcoholism     110526.0  3.040009e-02  1.716863e-01  0.000000e+00   \n",
       "Handcap        110526.0  2.224816e-02  1.615434e-01  0.000000e+00   \n",
       "SMS_received   110526.0  3.210285e-01  4.668738e-01  0.000000e+00   \n",
       "\n",
       "                        25%           50%           75%           max  \n",
       "PatientId      4.172536e+12  3.173184e+13  9.438963e+13  9.999816e+14  \n",
       "AppointmentID  5.640285e+06  5.680572e+06  5.725523e+06  5.790484e+06  \n",
       "Age            1.800000e+01  3.700000e+01  5.500000e+01  1.150000e+02  \n",
       "Scholarship    0.000000e+00  0.000000e+00  0.000000e+00  1.000000e+00  \n",
       "Hipertension   0.000000e+00  0.000000e+00  0.000000e+00  1.000000e+00  \n",
       "Diabetes       0.000000e+00  0.000000e+00  0.000000e+00  1.000000e+00  \n",
       "Alcoholism     0.000000e+00  0.000000e+00  0.000000e+00  1.000000e+00  \n",
       "Handcap        0.000000e+00  0.000000e+00  0.000000e+00  4.000000e+00  \n",
       "SMS_received   0.000000e+00  0.000000e+00  1.000000e+00  1.000000e+00  "
      ]
     },
     "execution_count": 18,
     "metadata": {},
     "output_type": "execute_result"
    }
   ],
   "source": [
    "# check if the invalid row is dropped\n",
    "df.describe().T"
   ]
  },
  {
   "cell_type": "markdown",
   "metadata": {},
   "source": [
    "#### Format the column names to be lowercase and underscored, so that the columns can be called as attributes"
   ]
  },
  {
   "cell_type": "code",
   "execution_count": 19,
   "metadata": {},
   "outputs": [],
   "source": [
    "# rename the columns with lower_case and under_scores\n",
    "rename_values = ['patient_id', 'appointment_id', 'gender', 'scheduled_day', 'appointment_day',\n",
    "                 'age', 'neighbourhood', 'scholarship', 'hipertension', 'diabetes', 'alcoholism', \n",
    "                 'handcap', 'sms_received', 'no_show']\n",
    "rename_dict = dict(zip(df.columns, rename_values))"
   ]
  },
  {
   "cell_type": "code",
   "execution_count": 20,
   "metadata": {},
   "outputs": [],
   "source": [
    "df.rename(columns=rename_dict, inplace=True)"
   ]
  },
  {
   "cell_type": "code",
   "execution_count": 21,
   "metadata": {},
   "outputs": [
    {
     "data": {
      "text/html": [
       "<div>\n",
       "<style scoped>\n",
       "    .dataframe tbody tr th:only-of-type {\n",
       "        vertical-align: middle;\n",
       "    }\n",
       "\n",
       "    .dataframe tbody tr th {\n",
       "        vertical-align: top;\n",
       "    }\n",
       "\n",
       "    .dataframe thead th {\n",
       "        text-align: right;\n",
       "    }\n",
       "</style>\n",
       "<table border=\"1\" class=\"dataframe\">\n",
       "  <thead>\n",
       "    <tr style=\"text-align: right;\">\n",
       "      <th></th>\n",
       "      <th>patient_id</th>\n",
       "      <th>appointment_id</th>\n",
       "      <th>gender</th>\n",
       "      <th>scheduled_day</th>\n",
       "      <th>appointment_day</th>\n",
       "      <th>age</th>\n",
       "      <th>neighbourhood</th>\n",
       "      <th>scholarship</th>\n",
       "      <th>hipertension</th>\n",
       "      <th>diabetes</th>\n",
       "      <th>alcoholism</th>\n",
       "      <th>handcap</th>\n",
       "      <th>sms_received</th>\n",
       "      <th>no_show</th>\n",
       "    </tr>\n",
       "  </thead>\n",
       "  <tbody>\n",
       "    <tr>\n",
       "      <th>0</th>\n",
       "      <td>2.987250e+13</td>\n",
       "      <td>5642903</td>\n",
       "      <td>F</td>\n",
       "      <td>2016-04-29T18:38:08Z</td>\n",
       "      <td>2016-04-29T00:00:00Z</td>\n",
       "      <td>62</td>\n",
       "      <td>JARDIM DA PENHA</td>\n",
       "      <td>0</td>\n",
       "      <td>1</td>\n",
       "      <td>0</td>\n",
       "      <td>0</td>\n",
       "      <td>0</td>\n",
       "      <td>0</td>\n",
       "      <td>No</td>\n",
       "    </tr>\n",
       "    <tr>\n",
       "      <th>1</th>\n",
       "      <td>5.589978e+14</td>\n",
       "      <td>5642503</td>\n",
       "      <td>M</td>\n",
       "      <td>2016-04-29T16:08:27Z</td>\n",
       "      <td>2016-04-29T00:00:00Z</td>\n",
       "      <td>56</td>\n",
       "      <td>JARDIM DA PENHA</td>\n",
       "      <td>0</td>\n",
       "      <td>0</td>\n",
       "      <td>0</td>\n",
       "      <td>0</td>\n",
       "      <td>0</td>\n",
       "      <td>0</td>\n",
       "      <td>No</td>\n",
       "    </tr>\n",
       "    <tr>\n",
       "      <th>2</th>\n",
       "      <td>4.262962e+12</td>\n",
       "      <td>5642549</td>\n",
       "      <td>F</td>\n",
       "      <td>2016-04-29T16:19:04Z</td>\n",
       "      <td>2016-04-29T00:00:00Z</td>\n",
       "      <td>62</td>\n",
       "      <td>MATA DA PRAIA</td>\n",
       "      <td>0</td>\n",
       "      <td>0</td>\n",
       "      <td>0</td>\n",
       "      <td>0</td>\n",
       "      <td>0</td>\n",
       "      <td>0</td>\n",
       "      <td>No</td>\n",
       "    </tr>\n",
       "    <tr>\n",
       "      <th>3</th>\n",
       "      <td>8.679512e+11</td>\n",
       "      <td>5642828</td>\n",
       "      <td>F</td>\n",
       "      <td>2016-04-29T17:29:31Z</td>\n",
       "      <td>2016-04-29T00:00:00Z</td>\n",
       "      <td>8</td>\n",
       "      <td>PONTAL DE CAMBURI</td>\n",
       "      <td>0</td>\n",
       "      <td>0</td>\n",
       "      <td>0</td>\n",
       "      <td>0</td>\n",
       "      <td>0</td>\n",
       "      <td>0</td>\n",
       "      <td>No</td>\n",
       "    </tr>\n",
       "    <tr>\n",
       "      <th>4</th>\n",
       "      <td>8.841186e+12</td>\n",
       "      <td>5642494</td>\n",
       "      <td>F</td>\n",
       "      <td>2016-04-29T16:07:23Z</td>\n",
       "      <td>2016-04-29T00:00:00Z</td>\n",
       "      <td>56</td>\n",
       "      <td>JARDIM DA PENHA</td>\n",
       "      <td>0</td>\n",
       "      <td>1</td>\n",
       "      <td>1</td>\n",
       "      <td>0</td>\n",
       "      <td>0</td>\n",
       "      <td>0</td>\n",
       "      <td>No</td>\n",
       "    </tr>\n",
       "  </tbody>\n",
       "</table>\n",
       "</div>"
      ],
      "text/plain": [
       "     patient_id  appointment_id gender         scheduled_day  \\\n",
       "0  2.987250e+13         5642903      F  2016-04-29T18:38:08Z   \n",
       "1  5.589978e+14         5642503      M  2016-04-29T16:08:27Z   \n",
       "2  4.262962e+12         5642549      F  2016-04-29T16:19:04Z   \n",
       "3  8.679512e+11         5642828      F  2016-04-29T17:29:31Z   \n",
       "4  8.841186e+12         5642494      F  2016-04-29T16:07:23Z   \n",
       "\n",
       "        appointment_day  age      neighbourhood  scholarship  hipertension  \\\n",
       "0  2016-04-29T00:00:00Z   62    JARDIM DA PENHA            0             1   \n",
       "1  2016-04-29T00:00:00Z   56    JARDIM DA PENHA            0             0   \n",
       "2  2016-04-29T00:00:00Z   62      MATA DA PRAIA            0             0   \n",
       "3  2016-04-29T00:00:00Z    8  PONTAL DE CAMBURI            0             0   \n",
       "4  2016-04-29T00:00:00Z   56    JARDIM DA PENHA            0             1   \n",
       "\n",
       "   diabetes  alcoholism  handcap  sms_received no_show  \n",
       "0         0           0        0             0      No  \n",
       "1         0           0        0             0      No  \n",
       "2         0           0        0             0      No  \n",
       "3         0           0        0             0      No  \n",
       "4         1           0        0             0      No  "
      ]
     },
     "execution_count": 21,
     "metadata": {},
     "output_type": "execute_result"
    }
   ],
   "source": [
    "df.head()"
   ]
  },
  {
   "cell_type": "markdown",
   "metadata": {},
   "source": [
    "#### Format the no_show column to lowercases"
   ]
  },
  {
   "cell_type": "code",
   "execution_count": 22,
   "metadata": {},
   "outputs": [],
   "source": [
    "df.no_show = df.no_show.apply(lambda x: x.lower()).astype('category')"
   ]
  },
  {
   "cell_type": "code",
   "execution_count": 23,
   "metadata": {},
   "outputs": [
    {
     "data": {
      "text/plain": [
       "no     88207\n",
       "yes    22319\n",
       "Name: no_show, dtype: int64"
      ]
     },
     "execution_count": 23,
     "metadata": {},
     "output_type": "execute_result"
    }
   ],
   "source": [
    "df.no_show.value_counts()"
   ]
  },
  {
   "cell_type": "markdown",
   "metadata": {},
   "source": [
    "#### Format '0' and '1' in columns from scholarship to sms_received to 'no' and 'yes' for a better categorisation"
   ]
  },
  {
   "cell_type": "code",
   "execution_count": 24,
   "metadata": {},
   "outputs": [
    {
     "data": {
      "text/html": [
       "<div>\n",
       "<style scoped>\n",
       "    .dataframe tbody tr th:only-of-type {\n",
       "        vertical-align: middle;\n",
       "    }\n",
       "\n",
       "    .dataframe tbody tr th {\n",
       "        vertical-align: top;\n",
       "    }\n",
       "\n",
       "    .dataframe thead th {\n",
       "        text-align: right;\n",
       "    }\n",
       "</style>\n",
       "<table border=\"1\" class=\"dataframe\">\n",
       "  <thead>\n",
       "    <tr style=\"text-align: right;\">\n",
       "      <th></th>\n",
       "      <th>patient_id</th>\n",
       "      <th>appointment_id</th>\n",
       "      <th>gender</th>\n",
       "      <th>scheduled_day</th>\n",
       "      <th>appointment_day</th>\n",
       "      <th>age</th>\n",
       "      <th>neighbourhood</th>\n",
       "      <th>scholarship</th>\n",
       "      <th>hipertension</th>\n",
       "      <th>diabetes</th>\n",
       "      <th>alcoholism</th>\n",
       "      <th>handcap</th>\n",
       "      <th>sms_received</th>\n",
       "      <th>no_show</th>\n",
       "    </tr>\n",
       "  </thead>\n",
       "  <tbody>\n",
       "    <tr>\n",
       "      <th>0</th>\n",
       "      <td>2.987250e+13</td>\n",
       "      <td>5642903</td>\n",
       "      <td>F</td>\n",
       "      <td>2016-04-29T18:38:08Z</td>\n",
       "      <td>2016-04-29T00:00:00Z</td>\n",
       "      <td>62</td>\n",
       "      <td>JARDIM DA PENHA</td>\n",
       "      <td>no</td>\n",
       "      <td>yes</td>\n",
       "      <td>no</td>\n",
       "      <td>no</td>\n",
       "      <td>0</td>\n",
       "      <td>no</td>\n",
       "      <td>no</td>\n",
       "    </tr>\n",
       "    <tr>\n",
       "      <th>1</th>\n",
       "      <td>5.589978e+14</td>\n",
       "      <td>5642503</td>\n",
       "      <td>M</td>\n",
       "      <td>2016-04-29T16:08:27Z</td>\n",
       "      <td>2016-04-29T00:00:00Z</td>\n",
       "      <td>56</td>\n",
       "      <td>JARDIM DA PENHA</td>\n",
       "      <td>no</td>\n",
       "      <td>no</td>\n",
       "      <td>no</td>\n",
       "      <td>no</td>\n",
       "      <td>0</td>\n",
       "      <td>no</td>\n",
       "      <td>no</td>\n",
       "    </tr>\n",
       "    <tr>\n",
       "      <th>2</th>\n",
       "      <td>4.262962e+12</td>\n",
       "      <td>5642549</td>\n",
       "      <td>F</td>\n",
       "      <td>2016-04-29T16:19:04Z</td>\n",
       "      <td>2016-04-29T00:00:00Z</td>\n",
       "      <td>62</td>\n",
       "      <td>MATA DA PRAIA</td>\n",
       "      <td>no</td>\n",
       "      <td>no</td>\n",
       "      <td>no</td>\n",
       "      <td>no</td>\n",
       "      <td>0</td>\n",
       "      <td>no</td>\n",
       "      <td>no</td>\n",
       "    </tr>\n",
       "    <tr>\n",
       "      <th>3</th>\n",
       "      <td>8.679512e+11</td>\n",
       "      <td>5642828</td>\n",
       "      <td>F</td>\n",
       "      <td>2016-04-29T17:29:31Z</td>\n",
       "      <td>2016-04-29T00:00:00Z</td>\n",
       "      <td>8</td>\n",
       "      <td>PONTAL DE CAMBURI</td>\n",
       "      <td>no</td>\n",
       "      <td>no</td>\n",
       "      <td>no</td>\n",
       "      <td>no</td>\n",
       "      <td>0</td>\n",
       "      <td>no</td>\n",
       "      <td>no</td>\n",
       "    </tr>\n",
       "    <tr>\n",
       "      <th>4</th>\n",
       "      <td>8.841186e+12</td>\n",
       "      <td>5642494</td>\n",
       "      <td>F</td>\n",
       "      <td>2016-04-29T16:07:23Z</td>\n",
       "      <td>2016-04-29T00:00:00Z</td>\n",
       "      <td>56</td>\n",
       "      <td>JARDIM DA PENHA</td>\n",
       "      <td>no</td>\n",
       "      <td>yes</td>\n",
       "      <td>yes</td>\n",
       "      <td>no</td>\n",
       "      <td>0</td>\n",
       "      <td>no</td>\n",
       "      <td>no</td>\n",
       "    </tr>\n",
       "  </tbody>\n",
       "</table>\n",
       "</div>"
      ],
      "text/plain": [
       "     patient_id  appointment_id gender         scheduled_day  \\\n",
       "0  2.987250e+13         5642903      F  2016-04-29T18:38:08Z   \n",
       "1  5.589978e+14         5642503      M  2016-04-29T16:08:27Z   \n",
       "2  4.262962e+12         5642549      F  2016-04-29T16:19:04Z   \n",
       "3  8.679512e+11         5642828      F  2016-04-29T17:29:31Z   \n",
       "4  8.841186e+12         5642494      F  2016-04-29T16:07:23Z   \n",
       "\n",
       "        appointment_day  age      neighbourhood scholarship hipertension  \\\n",
       "0  2016-04-29T00:00:00Z   62    JARDIM DA PENHA          no          yes   \n",
       "1  2016-04-29T00:00:00Z   56    JARDIM DA PENHA          no           no   \n",
       "2  2016-04-29T00:00:00Z   62      MATA DA PRAIA          no           no   \n",
       "3  2016-04-29T00:00:00Z    8  PONTAL DE CAMBURI          no           no   \n",
       "4  2016-04-29T00:00:00Z   56    JARDIM DA PENHA          no          yes   \n",
       "\n",
       "  diabetes alcoholism  handcap sms_received no_show  \n",
       "0       no         no        0           no      no  \n",
       "1       no         no        0           no      no  \n",
       "2       no         no        0           no      no  \n",
       "3       no         no        0           no      no  \n",
       "4      yes         no        0           no      no  "
      ]
     },
     "execution_count": 24,
     "metadata": {},
     "output_type": "execute_result"
    }
   ],
   "source": [
    "for col in ['scholarship','hipertension','diabetes','alcoholism','sms_received']:\n",
    "    df[col] = df[col].apply(lambda x: 'yes' if x else 'no').astype('category')\n",
    "df.head()"
   ]
  },
  {
   "cell_type": "code",
   "execution_count": 25,
   "metadata": {},
   "outputs": [
    {
     "data": {
      "text/plain": [
       "no     99665\n",
       "yes    10861\n",
       "Name: scholarship, dtype: int64"
      ]
     },
     "execution_count": 25,
     "metadata": {},
     "output_type": "execute_result"
    }
   ],
   "source": [
    "df.scholarship.value_counts()"
   ]
  },
  {
   "cell_type": "markdown",
   "metadata": {},
   "source": [
    "#### Format column 'gender' and 'handcap' to category"
   ]
  },
  {
   "cell_type": "code",
   "execution_count": 26,
   "metadata": {},
   "outputs": [],
   "source": [
    "df.gender = df.gender.astype('category')\n",
    "df.handcap = df.handcap.astype('category')"
   ]
  },
  {
   "cell_type": "markdown",
   "metadata": {},
   "source": [
    "#### By formatting the data, the database size is reduced"
   ]
  },
  {
   "cell_type": "code",
   "execution_count": 27,
   "metadata": {},
   "outputs": [
    {
     "name": "stdout",
     "output_type": "stream",
     "text": [
      "<class 'pandas.core.frame.DataFrame'>\n",
      "Int64Index: 110526 entries, 0 to 110526\n",
      "Data columns (total 14 columns):\n",
      " #   Column           Non-Null Count   Dtype   \n",
      "---  ------           --------------   -----   \n",
      " 0   patient_id       110526 non-null  float64 \n",
      " 1   appointment_id   110526 non-null  int64   \n",
      " 2   gender           110526 non-null  category\n",
      " 3   scheduled_day    110526 non-null  object  \n",
      " 4   appointment_day  110526 non-null  object  \n",
      " 5   age              110526 non-null  int64   \n",
      " 6   neighbourhood    110526 non-null  object  \n",
      " 7   scholarship      110526 non-null  category\n",
      " 8   hipertension     110526 non-null  category\n",
      " 9   diabetes         110526 non-null  category\n",
      " 10  alcoholism       110526 non-null  category\n",
      " 11  handcap          110526 non-null  category\n",
      " 12  sms_received     110526 non-null  category\n",
      " 13  no_show          110526 non-null  category\n",
      "dtypes: category(8), float64(1), int64(2), object(3)\n",
      "memory usage: 6.7+ MB\n"
     ]
    }
   ],
   "source": [
    "# check the dataframe again\n",
    "df.info()"
   ]
  },
  {
   "cell_type": "markdown",
   "metadata": {},
   "source": [
    "#### Format the schedule_day and appointment_day into datetime format"
   ]
  },
  {
   "cell_type": "code",
   "execution_count": 28,
   "metadata": {},
   "outputs": [],
   "source": [
    "df.scheduled_day = pd.to_datetime(df.scheduled_day, format='%Y-%m-%d')"
   ]
  },
  {
   "cell_type": "code",
   "execution_count": 29,
   "metadata": {},
   "outputs": [
    {
     "data": {
      "text/plain": [
       "0        2016-04-29 00:00:00+00:00\n",
       "1        2016-04-29 00:00:00+00:00\n",
       "2        2016-04-29 00:00:00+00:00\n",
       "3        2016-04-29 00:00:00+00:00\n",
       "4        2016-04-29 00:00:00+00:00\n",
       "                    ...           \n",
       "110522   2016-06-07 00:00:00+00:00\n",
       "110523   2016-06-07 00:00:00+00:00\n",
       "110524   2016-06-07 00:00:00+00:00\n",
       "110525   2016-06-07 00:00:00+00:00\n",
       "110526   2016-06-07 00:00:00+00:00\n",
       "Name: appointment_day, Length: 110526, dtype: datetime64[ns, UTC]"
      ]
     },
     "execution_count": 29,
     "metadata": {},
     "output_type": "execute_result"
    }
   ],
   "source": [
    "df.appointment_day = pd.to_datetime(df.appointment_day, format='%Y-%m-%d')\n",
    "df.appointment_day"
   ]
  },
  {
   "cell_type": "markdown",
   "metadata": {},
   "source": [
    "To group the data by year or month, part the datetime into year_appointment,  month_appointment, and day_appointment where **year_appointment**, **month_appointment**, **day_appointment** are the year, month, and day of the column **appointment_day**, respectively. "
   ]
  },
  {
   "cell_type": "code",
   "execution_count": 30,
   "metadata": {},
   "outputs": [
    {
     "data": {
      "text/html": [
       "<div>\n",
       "<style scoped>\n",
       "    .dataframe tbody tr th:only-of-type {\n",
       "        vertical-align: middle;\n",
       "    }\n",
       "\n",
       "    .dataframe tbody tr th {\n",
       "        vertical-align: top;\n",
       "    }\n",
       "\n",
       "    .dataframe thead th {\n",
       "        text-align: right;\n",
       "    }\n",
       "</style>\n",
       "<table border=\"1\" class=\"dataframe\">\n",
       "  <thead>\n",
       "    <tr style=\"text-align: right;\">\n",
       "      <th></th>\n",
       "      <th>patient_id</th>\n",
       "      <th>appointment_id</th>\n",
       "      <th>gender</th>\n",
       "      <th>scheduled_day</th>\n",
       "      <th>appointment_day</th>\n",
       "      <th>age</th>\n",
       "      <th>neighbourhood</th>\n",
       "      <th>scholarship</th>\n",
       "      <th>hipertension</th>\n",
       "      <th>diabetes</th>\n",
       "      <th>alcoholism</th>\n",
       "      <th>handcap</th>\n",
       "      <th>sms_received</th>\n",
       "      <th>no_show</th>\n",
       "      <th>year_appointment</th>\n",
       "      <th>month_appointment</th>\n",
       "      <th>day_appointment</th>\n",
       "    </tr>\n",
       "  </thead>\n",
       "  <tbody>\n",
       "    <tr>\n",
       "      <th>0</th>\n",
       "      <td>2.987250e+13</td>\n",
       "      <td>5642903</td>\n",
       "      <td>F</td>\n",
       "      <td>2016-04-29 18:38:08+00:00</td>\n",
       "      <td>2016-04-29 00:00:00+00:00</td>\n",
       "      <td>62</td>\n",
       "      <td>JARDIM DA PENHA</td>\n",
       "      <td>no</td>\n",
       "      <td>yes</td>\n",
       "      <td>no</td>\n",
       "      <td>no</td>\n",
       "      <td>0</td>\n",
       "      <td>no</td>\n",
       "      <td>no</td>\n",
       "      <td>2016</td>\n",
       "      <td>4</td>\n",
       "      <td>29</td>\n",
       "    </tr>\n",
       "    <tr>\n",
       "      <th>1</th>\n",
       "      <td>5.589978e+14</td>\n",
       "      <td>5642503</td>\n",
       "      <td>M</td>\n",
       "      <td>2016-04-29 16:08:27+00:00</td>\n",
       "      <td>2016-04-29 00:00:00+00:00</td>\n",
       "      <td>56</td>\n",
       "      <td>JARDIM DA PENHA</td>\n",
       "      <td>no</td>\n",
       "      <td>no</td>\n",
       "      <td>no</td>\n",
       "      <td>no</td>\n",
       "      <td>0</td>\n",
       "      <td>no</td>\n",
       "      <td>no</td>\n",
       "      <td>2016</td>\n",
       "      <td>4</td>\n",
       "      <td>29</td>\n",
       "    </tr>\n",
       "    <tr>\n",
       "      <th>2</th>\n",
       "      <td>4.262962e+12</td>\n",
       "      <td>5642549</td>\n",
       "      <td>F</td>\n",
       "      <td>2016-04-29 16:19:04+00:00</td>\n",
       "      <td>2016-04-29 00:00:00+00:00</td>\n",
       "      <td>62</td>\n",
       "      <td>MATA DA PRAIA</td>\n",
       "      <td>no</td>\n",
       "      <td>no</td>\n",
       "      <td>no</td>\n",
       "      <td>no</td>\n",
       "      <td>0</td>\n",
       "      <td>no</td>\n",
       "      <td>no</td>\n",
       "      <td>2016</td>\n",
       "      <td>4</td>\n",
       "      <td>29</td>\n",
       "    </tr>\n",
       "    <tr>\n",
       "      <th>3</th>\n",
       "      <td>8.679512e+11</td>\n",
       "      <td>5642828</td>\n",
       "      <td>F</td>\n",
       "      <td>2016-04-29 17:29:31+00:00</td>\n",
       "      <td>2016-04-29 00:00:00+00:00</td>\n",
       "      <td>8</td>\n",
       "      <td>PONTAL DE CAMBURI</td>\n",
       "      <td>no</td>\n",
       "      <td>no</td>\n",
       "      <td>no</td>\n",
       "      <td>no</td>\n",
       "      <td>0</td>\n",
       "      <td>no</td>\n",
       "      <td>no</td>\n",
       "      <td>2016</td>\n",
       "      <td>4</td>\n",
       "      <td>29</td>\n",
       "    </tr>\n",
       "    <tr>\n",
       "      <th>4</th>\n",
       "      <td>8.841186e+12</td>\n",
       "      <td>5642494</td>\n",
       "      <td>F</td>\n",
       "      <td>2016-04-29 16:07:23+00:00</td>\n",
       "      <td>2016-04-29 00:00:00+00:00</td>\n",
       "      <td>56</td>\n",
       "      <td>JARDIM DA PENHA</td>\n",
       "      <td>no</td>\n",
       "      <td>yes</td>\n",
       "      <td>yes</td>\n",
       "      <td>no</td>\n",
       "      <td>0</td>\n",
       "      <td>no</td>\n",
       "      <td>no</td>\n",
       "      <td>2016</td>\n",
       "      <td>4</td>\n",
       "      <td>29</td>\n",
       "    </tr>\n",
       "  </tbody>\n",
       "</table>\n",
       "</div>"
      ],
      "text/plain": [
       "     patient_id  appointment_id gender             scheduled_day  \\\n",
       "0  2.987250e+13         5642903      F 2016-04-29 18:38:08+00:00   \n",
       "1  5.589978e+14         5642503      M 2016-04-29 16:08:27+00:00   \n",
       "2  4.262962e+12         5642549      F 2016-04-29 16:19:04+00:00   \n",
       "3  8.679512e+11         5642828      F 2016-04-29 17:29:31+00:00   \n",
       "4  8.841186e+12         5642494      F 2016-04-29 16:07:23+00:00   \n",
       "\n",
       "            appointment_day  age      neighbourhood scholarship hipertension  \\\n",
       "0 2016-04-29 00:00:00+00:00   62    JARDIM DA PENHA          no          yes   \n",
       "1 2016-04-29 00:00:00+00:00   56    JARDIM DA PENHA          no           no   \n",
       "2 2016-04-29 00:00:00+00:00   62      MATA DA PRAIA          no           no   \n",
       "3 2016-04-29 00:00:00+00:00    8  PONTAL DE CAMBURI          no           no   \n",
       "4 2016-04-29 00:00:00+00:00   56    JARDIM DA PENHA          no          yes   \n",
       "\n",
       "  diabetes alcoholism handcap sms_received no_show year_appointment  \\\n",
       "0       no         no       0           no      no             2016   \n",
       "1       no         no       0           no      no             2016   \n",
       "2       no         no       0           no      no             2016   \n",
       "3       no         no       0           no      no             2016   \n",
       "4      yes         no       0           no      no             2016   \n",
       "\n",
       "  month_appointment day_appointment  \n",
       "0                 4              29  \n",
       "1                 4              29  \n",
       "2                 4              29  \n",
       "3                 4              29  \n",
       "4                 4              29  "
      ]
     },
     "execution_count": 30,
     "metadata": {},
     "output_type": "execute_result"
    }
   ],
   "source": [
    "df['year_appointment'] = df.appointment_day.dt.year.astype('category')\n",
    "df['month_appointment'] = df.appointment_day.dt.month.astype('category')\n",
    "df['day_appointment'] = df.appointment_day.dt.day.astype('category')\n",
    "df.head()"
   ]
  },
  {
   "cell_type": "markdown",
   "metadata": {},
   "source": [
    "Now, check if there is any null value again."
   ]
  },
  {
   "cell_type": "code",
   "execution_count": 31,
   "metadata": {},
   "outputs": [
    {
     "data": {
      "text/plain": [
       "patient_id           0\n",
       "appointment_id       0\n",
       "gender               0\n",
       "scheduled_day        0\n",
       "appointment_day      0\n",
       "age                  0\n",
       "neighbourhood        0\n",
       "scholarship          0\n",
       "hipertension         0\n",
       "diabetes             0\n",
       "alcoholism           0\n",
       "handcap              0\n",
       "sms_received         0\n",
       "no_show              0\n",
       "year_appointment     0\n",
       "month_appointment    0\n",
       "day_appointment      0\n",
       "dtype: int64"
      ]
     },
     "execution_count": 31,
     "metadata": {},
     "output_type": "execute_result"
    }
   ],
   "source": [
    "df.isnull().sum()"
   ]
  },
  {
   "cell_type": "code",
   "execution_count": 32,
   "metadata": {},
   "outputs": [
    {
     "data": {
      "text/html": [
       "<div>\n",
       "<style scoped>\n",
       "    .dataframe tbody tr th:only-of-type {\n",
       "        vertical-align: middle;\n",
       "    }\n",
       "\n",
       "    .dataframe tbody tr th {\n",
       "        vertical-align: top;\n",
       "    }\n",
       "\n",
       "    .dataframe thead th {\n",
       "        text-align: right;\n",
       "    }\n",
       "</style>\n",
       "<table border=\"1\" class=\"dataframe\">\n",
       "  <thead>\n",
       "    <tr style=\"text-align: right;\">\n",
       "      <th></th>\n",
       "      <th>count</th>\n",
       "      <th>mean</th>\n",
       "      <th>std</th>\n",
       "      <th>min</th>\n",
       "      <th>25%</th>\n",
       "      <th>50%</th>\n",
       "      <th>75%</th>\n",
       "      <th>max</th>\n",
       "    </tr>\n",
       "  </thead>\n",
       "  <tbody>\n",
       "    <tr>\n",
       "      <th>patient_id</th>\n",
       "      <td>110526.0</td>\n",
       "      <td>1.474934e+14</td>\n",
       "      <td>2.560943e+14</td>\n",
       "      <td>3.921784e+04</td>\n",
       "      <td>4.172536e+12</td>\n",
       "      <td>3.173184e+13</td>\n",
       "      <td>9.438963e+13</td>\n",
       "      <td>9.999816e+14</td>\n",
       "    </tr>\n",
       "    <tr>\n",
       "      <th>appointment_id</th>\n",
       "      <td>110526.0</td>\n",
       "      <td>5.675304e+06</td>\n",
       "      <td>7.129544e+04</td>\n",
       "      <td>5.030230e+06</td>\n",
       "      <td>5.640285e+06</td>\n",
       "      <td>5.680572e+06</td>\n",
       "      <td>5.725523e+06</td>\n",
       "      <td>5.790484e+06</td>\n",
       "    </tr>\n",
       "    <tr>\n",
       "      <th>age</th>\n",
       "      <td>110526.0</td>\n",
       "      <td>3.708922e+01</td>\n",
       "      <td>2.311003e+01</td>\n",
       "      <td>0.000000e+00</td>\n",
       "      <td>1.800000e+01</td>\n",
       "      <td>3.700000e+01</td>\n",
       "      <td>5.500000e+01</td>\n",
       "      <td>1.150000e+02</td>\n",
       "    </tr>\n",
       "  </tbody>\n",
       "</table>\n",
       "</div>"
      ],
      "text/plain": [
       "                   count          mean           std           min  \\\n",
       "patient_id      110526.0  1.474934e+14  2.560943e+14  3.921784e+04   \n",
       "appointment_id  110526.0  5.675304e+06  7.129544e+04  5.030230e+06   \n",
       "age             110526.0  3.708922e+01  2.311003e+01  0.000000e+00   \n",
       "\n",
       "                         25%           50%           75%           max  \n",
       "patient_id      4.172536e+12  3.173184e+13  9.438963e+13  9.999816e+14  \n",
       "appointment_id  5.640285e+06  5.680572e+06  5.725523e+06  5.790484e+06  \n",
       "age             1.800000e+01  3.700000e+01  5.500000e+01  1.150000e+02  "
      ]
     },
     "execution_count": 32,
     "metadata": {},
     "output_type": "execute_result"
    }
   ],
   "source": [
    "df.describe().transpose()"
   ]
  },
  {
   "cell_type": "markdown",
   "metadata": {},
   "source": [
    "#### Reduce the size of numeric columns"
   ]
  },
  {
   "cell_type": "code",
   "execution_count": 33,
   "metadata": {},
   "outputs": [],
   "source": [
    "for col in df.describe().columns:\n",
    "    df[col] = df[col].apply(pd.to_numeric, downcast=\"integer\")"
   ]
  },
  {
   "cell_type": "code",
   "execution_count": 34,
   "metadata": {},
   "outputs": [
    {
     "name": "stdout",
     "output_type": "stream",
     "text": [
      "<class 'pandas.core.frame.DataFrame'>\n",
      "Int64Index: 110526 entries, 0 to 110526\n",
      "Data columns (total 17 columns):\n",
      " #   Column             Non-Null Count   Dtype              \n",
      "---  ------             --------------   -----              \n",
      " 0   patient_id         110526 non-null  float64            \n",
      " 1   appointment_id     110526 non-null  int64              \n",
      " 2   gender             110526 non-null  category           \n",
      " 3   scheduled_day      110526 non-null  datetime64[ns, UTC]\n",
      " 4   appointment_day    110526 non-null  datetime64[ns, UTC]\n",
      " 5   age                110526 non-null  int64              \n",
      " 6   neighbourhood      110526 non-null  object             \n",
      " 7   scholarship        110526 non-null  category           \n",
      " 8   hipertension       110526 non-null  category           \n",
      " 9   diabetes           110526 non-null  category           \n",
      " 10  alcoholism         110526 non-null  category           \n",
      " 11  handcap            110526 non-null  category           \n",
      " 12  sms_received       110526 non-null  category           \n",
      " 13  no_show            110526 non-null  category           \n",
      " 14  year_appointment   110526 non-null  category           \n",
      " 15  month_appointment  110526 non-null  category           \n",
      " 16  day_appointment    110526 non-null  category           \n",
      "dtypes: category(11), datetime64[ns, UTC](2), float64(1), int64(2), object(1)\n",
      "memory usage: 7.1+ MB\n"
     ]
    }
   ],
   "source": [
    "df.info()"
   ]
  },
  {
   "cell_type": "markdown",
   "metadata": {},
   "source": [
    "#### Double-check the database"
   ]
  },
  {
   "cell_type": "code",
   "execution_count": 35,
   "metadata": {},
   "outputs": [
    {
     "data": {
      "text/html": [
       "<div>\n",
       "<style scoped>\n",
       "    .dataframe tbody tr th:only-of-type {\n",
       "        vertical-align: middle;\n",
       "    }\n",
       "\n",
       "    .dataframe tbody tr th {\n",
       "        vertical-align: top;\n",
       "    }\n",
       "\n",
       "    .dataframe thead th {\n",
       "        text-align: right;\n",
       "    }\n",
       "</style>\n",
       "<table border=\"1\" class=\"dataframe\">\n",
       "  <thead>\n",
       "    <tr style=\"text-align: right;\">\n",
       "      <th></th>\n",
       "      <th>patient_id</th>\n",
       "      <th>appointment_id</th>\n",
       "      <th>gender</th>\n",
       "      <th>scheduled_day</th>\n",
       "      <th>appointment_day</th>\n",
       "      <th>age</th>\n",
       "      <th>neighbourhood</th>\n",
       "      <th>scholarship</th>\n",
       "      <th>hipertension</th>\n",
       "      <th>diabetes</th>\n",
       "      <th>alcoholism</th>\n",
       "      <th>handcap</th>\n",
       "      <th>sms_received</th>\n",
       "      <th>no_show</th>\n",
       "      <th>year_appointment</th>\n",
       "      <th>month_appointment</th>\n",
       "      <th>day_appointment</th>\n",
       "    </tr>\n",
       "  </thead>\n",
       "  <tbody>\n",
       "    <tr>\n",
       "      <th>0</th>\n",
       "      <td>2.987250e+13</td>\n",
       "      <td>5642903</td>\n",
       "      <td>F</td>\n",
       "      <td>2016-04-29 18:38:08+00:00</td>\n",
       "      <td>2016-04-29 00:00:00+00:00</td>\n",
       "      <td>62</td>\n",
       "      <td>JARDIM DA PENHA</td>\n",
       "      <td>no</td>\n",
       "      <td>yes</td>\n",
       "      <td>no</td>\n",
       "      <td>no</td>\n",
       "      <td>0</td>\n",
       "      <td>no</td>\n",
       "      <td>no</td>\n",
       "      <td>2016</td>\n",
       "      <td>4</td>\n",
       "      <td>29</td>\n",
       "    </tr>\n",
       "    <tr>\n",
       "      <th>1</th>\n",
       "      <td>5.589978e+14</td>\n",
       "      <td>5642503</td>\n",
       "      <td>M</td>\n",
       "      <td>2016-04-29 16:08:27+00:00</td>\n",
       "      <td>2016-04-29 00:00:00+00:00</td>\n",
       "      <td>56</td>\n",
       "      <td>JARDIM DA PENHA</td>\n",
       "      <td>no</td>\n",
       "      <td>no</td>\n",
       "      <td>no</td>\n",
       "      <td>no</td>\n",
       "      <td>0</td>\n",
       "      <td>no</td>\n",
       "      <td>no</td>\n",
       "      <td>2016</td>\n",
       "      <td>4</td>\n",
       "      <td>29</td>\n",
       "    </tr>\n",
       "    <tr>\n",
       "      <th>2</th>\n",
       "      <td>4.262962e+12</td>\n",
       "      <td>5642549</td>\n",
       "      <td>F</td>\n",
       "      <td>2016-04-29 16:19:04+00:00</td>\n",
       "      <td>2016-04-29 00:00:00+00:00</td>\n",
       "      <td>62</td>\n",
       "      <td>MATA DA PRAIA</td>\n",
       "      <td>no</td>\n",
       "      <td>no</td>\n",
       "      <td>no</td>\n",
       "      <td>no</td>\n",
       "      <td>0</td>\n",
       "      <td>no</td>\n",
       "      <td>no</td>\n",
       "      <td>2016</td>\n",
       "      <td>4</td>\n",
       "      <td>29</td>\n",
       "    </tr>\n",
       "    <tr>\n",
       "      <th>3</th>\n",
       "      <td>8.679512e+11</td>\n",
       "      <td>5642828</td>\n",
       "      <td>F</td>\n",
       "      <td>2016-04-29 17:29:31+00:00</td>\n",
       "      <td>2016-04-29 00:00:00+00:00</td>\n",
       "      <td>8</td>\n",
       "      <td>PONTAL DE CAMBURI</td>\n",
       "      <td>no</td>\n",
       "      <td>no</td>\n",
       "      <td>no</td>\n",
       "      <td>no</td>\n",
       "      <td>0</td>\n",
       "      <td>no</td>\n",
       "      <td>no</td>\n",
       "      <td>2016</td>\n",
       "      <td>4</td>\n",
       "      <td>29</td>\n",
       "    </tr>\n",
       "    <tr>\n",
       "      <th>4</th>\n",
       "      <td>8.841186e+12</td>\n",
       "      <td>5642494</td>\n",
       "      <td>F</td>\n",
       "      <td>2016-04-29 16:07:23+00:00</td>\n",
       "      <td>2016-04-29 00:00:00+00:00</td>\n",
       "      <td>56</td>\n",
       "      <td>JARDIM DA PENHA</td>\n",
       "      <td>no</td>\n",
       "      <td>yes</td>\n",
       "      <td>yes</td>\n",
       "      <td>no</td>\n",
       "      <td>0</td>\n",
       "      <td>no</td>\n",
       "      <td>no</td>\n",
       "      <td>2016</td>\n",
       "      <td>4</td>\n",
       "      <td>29</td>\n",
       "    </tr>\n",
       "  </tbody>\n",
       "</table>\n",
       "</div>"
      ],
      "text/plain": [
       "     patient_id  appointment_id gender             scheduled_day  \\\n",
       "0  2.987250e+13         5642903      F 2016-04-29 18:38:08+00:00   \n",
       "1  5.589978e+14         5642503      M 2016-04-29 16:08:27+00:00   \n",
       "2  4.262962e+12         5642549      F 2016-04-29 16:19:04+00:00   \n",
       "3  8.679512e+11         5642828      F 2016-04-29 17:29:31+00:00   \n",
       "4  8.841186e+12         5642494      F 2016-04-29 16:07:23+00:00   \n",
       "\n",
       "            appointment_day  age      neighbourhood scholarship hipertension  \\\n",
       "0 2016-04-29 00:00:00+00:00   62    JARDIM DA PENHA          no          yes   \n",
       "1 2016-04-29 00:00:00+00:00   56    JARDIM DA PENHA          no           no   \n",
       "2 2016-04-29 00:00:00+00:00   62      MATA DA PRAIA          no           no   \n",
       "3 2016-04-29 00:00:00+00:00    8  PONTAL DE CAMBURI          no           no   \n",
       "4 2016-04-29 00:00:00+00:00   56    JARDIM DA PENHA          no          yes   \n",
       "\n",
       "  diabetes alcoholism handcap sms_received no_show year_appointment  \\\n",
       "0       no         no       0           no      no             2016   \n",
       "1       no         no       0           no      no             2016   \n",
       "2       no         no       0           no      no             2016   \n",
       "3       no         no       0           no      no             2016   \n",
       "4      yes         no       0           no      no             2016   \n",
       "\n",
       "  month_appointment day_appointment  \n",
       "0                 4              29  \n",
       "1                 4              29  \n",
       "2                 4              29  \n",
       "3                 4              29  \n",
       "4                 4              29  "
      ]
     },
     "execution_count": 35,
     "metadata": {},
     "output_type": "execute_result"
    }
   ],
   "source": [
    "df.head()"
   ]
  },
  {
   "cell_type": "code",
   "execution_count": 36,
   "metadata": {},
   "outputs": [
    {
     "data": {
      "text/html": [
       "<div>\n",
       "<style scoped>\n",
       "    .dataframe tbody tr th:only-of-type {\n",
       "        vertical-align: middle;\n",
       "    }\n",
       "\n",
       "    .dataframe tbody tr th {\n",
       "        vertical-align: top;\n",
       "    }\n",
       "\n",
       "    .dataframe thead th {\n",
       "        text-align: right;\n",
       "    }\n",
       "</style>\n",
       "<table border=\"1\" class=\"dataframe\">\n",
       "  <thead>\n",
       "    <tr style=\"text-align: right;\">\n",
       "      <th></th>\n",
       "      <th>patient_id</th>\n",
       "      <th>appointment_id</th>\n",
       "      <th>gender</th>\n",
       "      <th>scheduled_day</th>\n",
       "      <th>appointment_day</th>\n",
       "      <th>age</th>\n",
       "      <th>neighbourhood</th>\n",
       "      <th>scholarship</th>\n",
       "      <th>hipertension</th>\n",
       "      <th>diabetes</th>\n",
       "      <th>alcoholism</th>\n",
       "      <th>handcap</th>\n",
       "      <th>sms_received</th>\n",
       "      <th>no_show</th>\n",
       "      <th>year_appointment</th>\n",
       "      <th>month_appointment</th>\n",
       "      <th>day_appointment</th>\n",
       "    </tr>\n",
       "  </thead>\n",
       "  <tbody>\n",
       "    <tr>\n",
       "      <th>110522</th>\n",
       "      <td>2.572134e+12</td>\n",
       "      <td>5651768</td>\n",
       "      <td>F</td>\n",
       "      <td>2016-05-03 09:15:35+00:00</td>\n",
       "      <td>2016-06-07 00:00:00+00:00</td>\n",
       "      <td>56</td>\n",
       "      <td>MARIA ORTIZ</td>\n",
       "      <td>no</td>\n",
       "      <td>no</td>\n",
       "      <td>no</td>\n",
       "      <td>no</td>\n",
       "      <td>0</td>\n",
       "      <td>yes</td>\n",
       "      <td>no</td>\n",
       "      <td>2016</td>\n",
       "      <td>6</td>\n",
       "      <td>7</td>\n",
       "    </tr>\n",
       "    <tr>\n",
       "      <th>110523</th>\n",
       "      <td>3.596266e+12</td>\n",
       "      <td>5650093</td>\n",
       "      <td>F</td>\n",
       "      <td>2016-05-03 07:27:33+00:00</td>\n",
       "      <td>2016-06-07 00:00:00+00:00</td>\n",
       "      <td>51</td>\n",
       "      <td>MARIA ORTIZ</td>\n",
       "      <td>no</td>\n",
       "      <td>no</td>\n",
       "      <td>no</td>\n",
       "      <td>no</td>\n",
       "      <td>0</td>\n",
       "      <td>yes</td>\n",
       "      <td>no</td>\n",
       "      <td>2016</td>\n",
       "      <td>6</td>\n",
       "      <td>7</td>\n",
       "    </tr>\n",
       "    <tr>\n",
       "      <th>110524</th>\n",
       "      <td>1.557663e+13</td>\n",
       "      <td>5630692</td>\n",
       "      <td>F</td>\n",
       "      <td>2016-04-27 16:03:52+00:00</td>\n",
       "      <td>2016-06-07 00:00:00+00:00</td>\n",
       "      <td>21</td>\n",
       "      <td>MARIA ORTIZ</td>\n",
       "      <td>no</td>\n",
       "      <td>no</td>\n",
       "      <td>no</td>\n",
       "      <td>no</td>\n",
       "      <td>0</td>\n",
       "      <td>yes</td>\n",
       "      <td>no</td>\n",
       "      <td>2016</td>\n",
       "      <td>6</td>\n",
       "      <td>7</td>\n",
       "    </tr>\n",
       "    <tr>\n",
       "      <th>110525</th>\n",
       "      <td>9.213493e+13</td>\n",
       "      <td>5630323</td>\n",
       "      <td>F</td>\n",
       "      <td>2016-04-27 15:09:23+00:00</td>\n",
       "      <td>2016-06-07 00:00:00+00:00</td>\n",
       "      <td>38</td>\n",
       "      <td>MARIA ORTIZ</td>\n",
       "      <td>no</td>\n",
       "      <td>no</td>\n",
       "      <td>no</td>\n",
       "      <td>no</td>\n",
       "      <td>0</td>\n",
       "      <td>yes</td>\n",
       "      <td>no</td>\n",
       "      <td>2016</td>\n",
       "      <td>6</td>\n",
       "      <td>7</td>\n",
       "    </tr>\n",
       "    <tr>\n",
       "      <th>110526</th>\n",
       "      <td>3.775115e+14</td>\n",
       "      <td>5629448</td>\n",
       "      <td>F</td>\n",
       "      <td>2016-04-27 13:30:56+00:00</td>\n",
       "      <td>2016-06-07 00:00:00+00:00</td>\n",
       "      <td>54</td>\n",
       "      <td>MARIA ORTIZ</td>\n",
       "      <td>no</td>\n",
       "      <td>no</td>\n",
       "      <td>no</td>\n",
       "      <td>no</td>\n",
       "      <td>0</td>\n",
       "      <td>yes</td>\n",
       "      <td>no</td>\n",
       "      <td>2016</td>\n",
       "      <td>6</td>\n",
       "      <td>7</td>\n",
       "    </tr>\n",
       "  </tbody>\n",
       "</table>\n",
       "</div>"
      ],
      "text/plain": [
       "          patient_id  appointment_id gender             scheduled_day  \\\n",
       "110522  2.572134e+12         5651768      F 2016-05-03 09:15:35+00:00   \n",
       "110523  3.596266e+12         5650093      F 2016-05-03 07:27:33+00:00   \n",
       "110524  1.557663e+13         5630692      F 2016-04-27 16:03:52+00:00   \n",
       "110525  9.213493e+13         5630323      F 2016-04-27 15:09:23+00:00   \n",
       "110526  3.775115e+14         5629448      F 2016-04-27 13:30:56+00:00   \n",
       "\n",
       "                 appointment_day  age neighbourhood scholarship hipertension  \\\n",
       "110522 2016-06-07 00:00:00+00:00   56   MARIA ORTIZ          no           no   \n",
       "110523 2016-06-07 00:00:00+00:00   51   MARIA ORTIZ          no           no   \n",
       "110524 2016-06-07 00:00:00+00:00   21   MARIA ORTIZ          no           no   \n",
       "110525 2016-06-07 00:00:00+00:00   38   MARIA ORTIZ          no           no   \n",
       "110526 2016-06-07 00:00:00+00:00   54   MARIA ORTIZ          no           no   \n",
       "\n",
       "       diabetes alcoholism handcap sms_received no_show year_appointment  \\\n",
       "110522       no         no       0          yes      no             2016   \n",
       "110523       no         no       0          yes      no             2016   \n",
       "110524       no         no       0          yes      no             2016   \n",
       "110525       no         no       0          yes      no             2016   \n",
       "110526       no         no       0          yes      no             2016   \n",
       "\n",
       "       month_appointment day_appointment  \n",
       "110522                 6               7  \n",
       "110523                 6               7  \n",
       "110524                 6               7  \n",
       "110525                 6               7  \n",
       "110526                 6               7  "
      ]
     },
     "execution_count": 36,
     "metadata": {},
     "output_type": "execute_result"
    }
   ],
   "source": [
    "df.tail()"
   ]
  },
  {
   "cell_type": "code",
   "execution_count": 37,
   "metadata": {},
   "outputs": [
    {
     "data": {
      "text/plain": [
       "patient_id           0\n",
       "appointment_id       0\n",
       "gender               0\n",
       "scheduled_day        0\n",
       "appointment_day      0\n",
       "age                  0\n",
       "neighbourhood        0\n",
       "scholarship          0\n",
       "hipertension         0\n",
       "diabetes             0\n",
       "alcoholism           0\n",
       "handcap              0\n",
       "sms_received         0\n",
       "no_show              0\n",
       "year_appointment     0\n",
       "month_appointment    0\n",
       "day_appointment      0\n",
       "dtype: int64"
      ]
     },
     "execution_count": 37,
     "metadata": {},
     "output_type": "execute_result"
    }
   ],
   "source": [
    "df.isnull().sum()"
   ]
  },
  {
   "cell_type": "markdown",
   "metadata": {},
   "source": [
    "#### Group the age based on percentile. Here I used 10%, 25%, 50%, 75%, 90% and 95% to be the quantile marks"
   ]
  },
  {
   "cell_type": "code",
   "execution_count": 38,
   "metadata": {},
   "outputs": [],
   "source": [
    "tmp_tile = df.age.quantile([.1,.25,.50,.75,.90,.95]).values\n",
    "def group_age(x_age):   \n",
    "    if x_age < tmp_tile[0]:\n",
    "        out_age = f'{0} - {int(tmp_tile[0])}'\n",
    "    elif x_age > tmp_tile[-1]:\n",
    "        out_age = f'>{int(tmp_tile[-1])}'\n",
    "    else:\n",
    "        for i_age, tmp_age in enumerate(tmp_tile[1:]):\n",
    "            if (x_age >= tmp_tile[i_age]) and (x_age < tmp_age+0.5):\n",
    "                out_age = f'{int(tmp_tile[i_age])} - {int(tmp_age)}'\n",
    "    return out_age"
   ]
  },
  {
   "cell_type": "code",
   "execution_count": 39,
   "metadata": {},
   "outputs": [
    {
     "data": {
      "text/html": [
       "<div>\n",
       "<style scoped>\n",
       "    .dataframe tbody tr th:only-of-type {\n",
       "        vertical-align: middle;\n",
       "    }\n",
       "\n",
       "    .dataframe tbody tr th {\n",
       "        vertical-align: top;\n",
       "    }\n",
       "\n",
       "    .dataframe thead th {\n",
       "        text-align: right;\n",
       "    }\n",
       "</style>\n",
       "<table border=\"1\" class=\"dataframe\">\n",
       "  <thead>\n",
       "    <tr style=\"text-align: right;\">\n",
       "      <th></th>\n",
       "      <th>patient_id</th>\n",
       "      <th>appointment_id</th>\n",
       "      <th>gender</th>\n",
       "      <th>scheduled_day</th>\n",
       "      <th>appointment_day</th>\n",
       "      <th>age</th>\n",
       "      <th>neighbourhood</th>\n",
       "      <th>scholarship</th>\n",
       "      <th>hipertension</th>\n",
       "      <th>diabetes</th>\n",
       "      <th>alcoholism</th>\n",
       "      <th>handcap</th>\n",
       "      <th>sms_received</th>\n",
       "      <th>no_show</th>\n",
       "      <th>year_appointment</th>\n",
       "      <th>month_appointment</th>\n",
       "      <th>day_appointment</th>\n",
       "      <th>age_group</th>\n",
       "    </tr>\n",
       "  </thead>\n",
       "  <tbody>\n",
       "    <tr>\n",
       "      <th>0</th>\n",
       "      <td>2.987250e+13</td>\n",
       "      <td>5642903</td>\n",
       "      <td>F</td>\n",
       "      <td>2016-04-29 18:38:08+00:00</td>\n",
       "      <td>2016-04-29 00:00:00+00:00</td>\n",
       "      <td>62</td>\n",
       "      <td>JARDIM DA PENHA</td>\n",
       "      <td>no</td>\n",
       "      <td>yes</td>\n",
       "      <td>no</td>\n",
       "      <td>no</td>\n",
       "      <td>0</td>\n",
       "      <td>no</td>\n",
       "      <td>no</td>\n",
       "      <td>2016</td>\n",
       "      <td>4</td>\n",
       "      <td>29</td>\n",
       "      <td>55 - 68</td>\n",
       "    </tr>\n",
       "    <tr>\n",
       "      <th>1</th>\n",
       "      <td>5.589978e+14</td>\n",
       "      <td>5642503</td>\n",
       "      <td>M</td>\n",
       "      <td>2016-04-29 16:08:27+00:00</td>\n",
       "      <td>2016-04-29 00:00:00+00:00</td>\n",
       "      <td>56</td>\n",
       "      <td>JARDIM DA PENHA</td>\n",
       "      <td>no</td>\n",
       "      <td>no</td>\n",
       "      <td>no</td>\n",
       "      <td>no</td>\n",
       "      <td>0</td>\n",
       "      <td>no</td>\n",
       "      <td>no</td>\n",
       "      <td>2016</td>\n",
       "      <td>4</td>\n",
       "      <td>29</td>\n",
       "      <td>55 - 68</td>\n",
       "    </tr>\n",
       "    <tr>\n",
       "      <th>2</th>\n",
       "      <td>4.262962e+12</td>\n",
       "      <td>5642549</td>\n",
       "      <td>F</td>\n",
       "      <td>2016-04-29 16:19:04+00:00</td>\n",
       "      <td>2016-04-29 00:00:00+00:00</td>\n",
       "      <td>62</td>\n",
       "      <td>MATA DA PRAIA</td>\n",
       "      <td>no</td>\n",
       "      <td>no</td>\n",
       "      <td>no</td>\n",
       "      <td>no</td>\n",
       "      <td>0</td>\n",
       "      <td>no</td>\n",
       "      <td>no</td>\n",
       "      <td>2016</td>\n",
       "      <td>4</td>\n",
       "      <td>29</td>\n",
       "      <td>55 - 68</td>\n",
       "    </tr>\n",
       "    <tr>\n",
       "      <th>3</th>\n",
       "      <td>8.679512e+11</td>\n",
       "      <td>5642828</td>\n",
       "      <td>F</td>\n",
       "      <td>2016-04-29 17:29:31+00:00</td>\n",
       "      <td>2016-04-29 00:00:00+00:00</td>\n",
       "      <td>8</td>\n",
       "      <td>PONTAL DE CAMBURI</td>\n",
       "      <td>no</td>\n",
       "      <td>no</td>\n",
       "      <td>no</td>\n",
       "      <td>no</td>\n",
       "      <td>0</td>\n",
       "      <td>no</td>\n",
       "      <td>no</td>\n",
       "      <td>2016</td>\n",
       "      <td>4</td>\n",
       "      <td>29</td>\n",
       "      <td>5 - 18</td>\n",
       "    </tr>\n",
       "    <tr>\n",
       "      <th>4</th>\n",
       "      <td>8.841186e+12</td>\n",
       "      <td>5642494</td>\n",
       "      <td>F</td>\n",
       "      <td>2016-04-29 16:07:23+00:00</td>\n",
       "      <td>2016-04-29 00:00:00+00:00</td>\n",
       "      <td>56</td>\n",
       "      <td>JARDIM DA PENHA</td>\n",
       "      <td>no</td>\n",
       "      <td>yes</td>\n",
       "      <td>yes</td>\n",
       "      <td>no</td>\n",
       "      <td>0</td>\n",
       "      <td>no</td>\n",
       "      <td>no</td>\n",
       "      <td>2016</td>\n",
       "      <td>4</td>\n",
       "      <td>29</td>\n",
       "      <td>55 - 68</td>\n",
       "    </tr>\n",
       "  </tbody>\n",
       "</table>\n",
       "</div>"
      ],
      "text/plain": [
       "     patient_id  appointment_id gender             scheduled_day  \\\n",
       "0  2.987250e+13         5642903      F 2016-04-29 18:38:08+00:00   \n",
       "1  5.589978e+14         5642503      M 2016-04-29 16:08:27+00:00   \n",
       "2  4.262962e+12         5642549      F 2016-04-29 16:19:04+00:00   \n",
       "3  8.679512e+11         5642828      F 2016-04-29 17:29:31+00:00   \n",
       "4  8.841186e+12         5642494      F 2016-04-29 16:07:23+00:00   \n",
       "\n",
       "            appointment_day  age      neighbourhood scholarship hipertension  \\\n",
       "0 2016-04-29 00:00:00+00:00   62    JARDIM DA PENHA          no          yes   \n",
       "1 2016-04-29 00:00:00+00:00   56    JARDIM DA PENHA          no           no   \n",
       "2 2016-04-29 00:00:00+00:00   62      MATA DA PRAIA          no           no   \n",
       "3 2016-04-29 00:00:00+00:00    8  PONTAL DE CAMBURI          no           no   \n",
       "4 2016-04-29 00:00:00+00:00   56    JARDIM DA PENHA          no          yes   \n",
       "\n",
       "  diabetes alcoholism handcap sms_received no_show year_appointment  \\\n",
       "0       no         no       0           no      no             2016   \n",
       "1       no         no       0           no      no             2016   \n",
       "2       no         no       0           no      no             2016   \n",
       "3       no         no       0           no      no             2016   \n",
       "4      yes         no       0           no      no             2016   \n",
       "\n",
       "  month_appointment day_appointment age_group  \n",
       "0                 4              29   55 - 68  \n",
       "1                 4              29   55 - 68  \n",
       "2                 4              29   55 - 68  \n",
       "3                 4              29    5 - 18  \n",
       "4                 4              29   55 - 68  "
      ]
     },
     "execution_count": 39,
     "metadata": {},
     "output_type": "execute_result"
    }
   ],
   "source": [
    "df['age_group'] = df.age.apply(group_age).astype('category')\n",
    "df.head()"
   ]
  },
  {
   "cell_type": "code",
   "execution_count": 40,
   "metadata": {},
   "outputs": [
    {
     "data": {
      "text/plain": [
       "2016    110526\n",
       "Name: year_appointment, dtype: int64"
      ]
     },
     "execution_count": 40,
     "metadata": {},
     "output_type": "execute_result"
    }
   ],
   "source": [
    "df.year_appointment.value_counts()"
   ]
  },
  {
   "cell_type": "code",
   "execution_count": 41,
   "metadata": {},
   "outputs": [
    {
     "name": "stdout",
     "output_type": "stream",
     "text": [
      "<class 'pandas.core.frame.DataFrame'>\n",
      "Int64Index: 110526 entries, 0 to 110526\n",
      "Data columns (total 18 columns):\n",
      " #   Column             Non-Null Count   Dtype              \n",
      "---  ------             --------------   -----              \n",
      " 0   patient_id         110526 non-null  float64            \n",
      " 1   appointment_id     110526 non-null  int64              \n",
      " 2   gender             110526 non-null  category           \n",
      " 3   scheduled_day      110526 non-null  datetime64[ns, UTC]\n",
      " 4   appointment_day    110526 non-null  datetime64[ns, UTC]\n",
      " 5   age                110526 non-null  int64              \n",
      " 6   neighbourhood      110526 non-null  object             \n",
      " 7   scholarship        110526 non-null  category           \n",
      " 8   hipertension       110526 non-null  category           \n",
      " 9   diabetes           110526 non-null  category           \n",
      " 10  alcoholism         110526 non-null  category           \n",
      " 11  handcap            110526 non-null  category           \n",
      " 12  sms_received       110526 non-null  category           \n",
      " 13  no_show            110526 non-null  category           \n",
      " 14  year_appointment   110526 non-null  category           \n",
      " 15  month_appointment  110526 non-null  category           \n",
      " 16  day_appointment    110526 non-null  category           \n",
      " 17  age_group          110526 non-null  category           \n",
      "dtypes: category(12), datetime64[ns, UTC](2), float64(1), int64(2), object(1)\n",
      "memory usage: 7.2+ MB\n"
     ]
    }
   ],
   "source": [
    "df.info()"
   ]
  },
  {
   "cell_type": "code",
   "execution_count": null,
   "metadata": {},
   "outputs": [],
   "source": []
  },
  {
   "cell_type": "markdown",
   "metadata": {},
   "source": [
    "<a id='eda'></a>\n",
    "## Exploratory Data Analysis\n",
    "### Research Question 1 - How is the patients' age distributed?"
   ]
  },
  {
   "cell_type": "code",
   "execution_count": 42,
   "metadata": {},
   "outputs": [],
   "source": [
    "# Use this, and more code cells, to explore your data. Don't forget to add\n",
    "#   Markdown cells to document your observations and findings.\n",
    "\n",
    "# setup binstep and the histo bins\n",
    "bins_step = 10\n",
    "bins_q1 = np.arange(df.age.min(),df.age.max()+bins_step,bins_step)"
   ]
  },
  {
   "cell_type": "code",
   "execution_count": 43,
   "metadata": {
    "scrolled": true
   },
   "outputs": [
    {
     "data": {
      "text/plain": [
       "Text(0, 0.5, \"number of patients' appointments\")"
      ]
     },
     "execution_count": 43,
     "metadata": {},
     "output_type": "execute_result"
    },
    {
     "data": {
      "image/png": "[encoded data removed]",
      "text/plain": [
       "<Figure size 640x480 with 1 Axes>"
      ]
     },
     "metadata": {},
     "output_type": "display_data"
    }
   ],
   "source": [
    "# plot the histo of patients' ages using the bins\n",
    "axe = df.age.plot(kind='hist',bins=bins_q1, title='The histogram of patients'' age of all appointments')\n",
    "axe.set_xlabel('patients\\' age')\n",
    "axe.set_ylabel('number of patients\\' appointments')"
   ]
  },
  {
   "cell_type": "markdown",
   "metadata": {},
   "source": [
    "### The histogram above equally spaced the ages in an span of 10. As per the histogram above, the patients who made appointments are mainly at an age below 70, where each of those age groups have made more than 10,000 appointments. "
   ]
  },
  {
   "cell_type": "code",
   "execution_count": null,
   "metadata": {},
   "outputs": [],
   "source": []
  },
  {
   "cell_type": "markdown",
   "metadata": {},
   "source": [
    "### Research Question 2 - How is the age group distributed among the patients in the Brazilian welfare system?"
   ]
  },
  {
   "cell_type": "code",
   "execution_count": 44,
   "metadata": {
    "tags": []
   },
   "outputs": [
    {
     "data": {
      "image/png": "[encoded data removed]",
      "text/plain": [
       "<Figure size 1100x2200 with 2 Axes>"
      ]
     },
     "metadata": {},
     "output_type": "display_data"
    }
   ],
   "source": [
    "# Use this, and more code cells, to explore your data. Don't forget to add\n",
    "#   Markdown cells to document your observations and findings.\n",
    "\n",
    "# separate the patients by whether they are in the Brazilian welfare system.\n",
    "fig, axes = plt.subplots(nrows=2,ncols=1)\n",
    "df_q2_yes = df.query('scholarship == \"yes\"').age_group.value_counts(normalize=True).mul(100).round(2)\n",
    "df_q2_no  = df.query('scholarship == \"no\"').age_group.value_counts(normalize=True).mul(100).round(2)\n",
    "# plot the patients age group by whether they are in the Brazilian welfare system. \n",
    "df_q2_yes.plot(kind='pie',figsize=[11,22],ylabel='age groups',autopct='%1.0f%%',title='Patients'' age in the Brazilian welfare system', ax=axes[0])\n",
    "df_q2_no.plot(kind='pie',figsize=[11,22],ylabel='age groups',autopct='%1.0f%%',title='Patients'' age no in the Brazilian welfare system', ax=axes[1])\n",
    "plt.show()"
   ]
  },
  {
   "cell_type": "markdown",
   "metadata": {},
   "source": [
    "### From the two pie charts, it is noted that the proportion of appointments made by the patients in the Brazilian welfare system over the age of 68 is nearly 1% only , whilst this proportion of appointments is considerably 11% among the patients without the welfare. No matter whether in the welfare system or not, patients at the age between 18 and 55 relate to the majority of the appointments. "
   ]
  },
  {
   "cell_type": "code",
   "execution_count": null,
   "metadata": {},
   "outputs": [],
   "source": []
  },
  {
   "cell_type": "markdown",
   "metadata": {},
   "source": [
    "### Research Question 3 - What is the no-show rate of patients within appointment month, based on whether they received an SMS reminder or not?"
   ]
  },
  {
   "cell_type": "code",
   "execution_count": 45,
   "metadata": {
    "tags": []
   },
   "outputs": [],
   "source": [
    "# Continue to explore the data to address your additional research\n",
    "#   questions. Add more headers as needed if you have more questions to\n",
    "#   investigate.\n",
    "\n",
    "# group the no-show rate by the appointment month and whether the patient were reminded by sms.\n",
    "df_q3 = df.groupby(by=['month_appointment','sms_received']).no_show.value_counts(normalize=True).mul(100).round(2).unstack()['yes']"
   ]
  },
  {
   "cell_type": "code",
   "execution_count": 46,
   "metadata": {},
   "outputs": [
    {
     "data": {
      "text/plain": [
       "<AxesSubplot: title={'center': 'No-show rate vs. months based on whether received sms'}, xlabel='month of the appointments', ylabel='no-show percentage (%)'>"
      ]
     },
     "execution_count": 46,
     "metadata": {},
     "output_type": "execute_result"
    },
    {
     "data": {
      "image/png": "[encoded data removed]",
      "text/plain": [
       "<Figure size 640x480 with 1 Axes>"
      ]
     },
     "metadata": {},
     "output_type": "display_data"
    }
   ],
   "source": [
    "df_q3.unstack().plot(kind='bar', xlabel='month of the appointments', ylabel='no-show percentage (%)', title='No-show rate vs. months based on whether received sms')"
   ]
  },
  {
   "cell_type": "markdown",
   "metadata": {},
   "source": [
    "### The appointments of the database are focused in April, May and June. The no-show rate barely varies among these three months. However, it is observed that the no-show rate was increased by around 10% when patients received an sms reminder."
   ]
  },
  {
   "cell_type": "markdown",
   "metadata": {},
   "source": [
    "### Research Question 4 - Does the severity of the handicap affect the attendance rate of patients across different age groups?"
   ]
  },
  {
   "cell_type": "code",
   "execution_count": 47,
   "metadata": {
    "tags": []
   },
   "outputs": [],
   "source": [
    "# Continue to explore the data to address your additional research\n",
    "#   questions. Add more headers as needed if you have more questions to\n",
    "#   investigate.\n",
    "\n",
    "# group the no-show rate by the handcap level and age group\n",
    "df_q4_count = df.groupby(by=['handcap','age_group']).no_show.value_counts(normalize=True).mul(100).round(2).unstack()['yes']"
   ]
  },
  {
   "cell_type": "code",
   "execution_count": 48,
   "metadata": {
    "scrolled": true
   },
   "outputs": [
    {
     "data": {
      "text/plain": [
       "<AxesSubplot: title={'center': 'No-show rate vs. age groups and handcap levels'}, xlabel='handcap level', ylabel='no-show percentage (%)'>"
      ]
     },
     "execution_count": 48,
     "metadata": {},
     "output_type": "execute_result"
    },
    {
     "data": {
      "image/png": "[encoded data removed]",
      "text/plain": [
       "<Figure size 640x480 with 1 Axes>"
      ]
     },
     "metadata": {},
     "output_type": "display_data"
    }
   ],
   "source": [
    "df_q4_count.unstack().plot(kind='bar', xlabel='handcap level', ylabel='no-show percentage (%)', title='No-show rate vs. age groups and handcap levels')"
   ]
  },
  {
   "cell_type": "code",
   "execution_count": 49,
   "metadata": {},
   "outputs": [
    {
     "data": {
      "text/plain": [
       "handcap  age_group\n",
       "0        18 - 37      26806\n",
       "         37 - 55      26447\n",
       "         55 - 68      17328\n",
       "         5 - 18       16912\n",
       "         0 - 5        10232\n",
       "         68 - 75       5513\n",
       "         >75           5047\n",
       "1        37 - 55        531\n",
       "         55 - 68        436\n",
       "         18 - 37        359\n",
       "         >75            298\n",
       "         68 - 75        226\n",
       "         5 - 18         184\n",
       "         0 - 5            8\n",
       "2        >75             46\n",
       "         18 - 37         38\n",
       "         37 - 55         36\n",
       "         5 - 18          35\n",
       "         55 - 68         19\n",
       "         68 - 75          7\n",
       "         0 - 5            2\n",
       "3        55 - 68          5\n",
       "         5 - 18           4\n",
       "         68 - 75          3\n",
       "         >75              1\n",
       "         0 - 5            0\n",
       "         18 - 37          0\n",
       "         37 - 55          0\n",
       "4        5 - 18           2\n",
       "         18 - 37          1\n",
       "         0 - 5            0\n",
       "         37 - 55          0\n",
       "         55 - 68          0\n",
       "         68 - 75          0\n",
       "         >75              0\n",
       "Name: age_group, dtype: int64"
      ]
     },
     "execution_count": 49,
     "metadata": {},
     "output_type": "execute_result"
    }
   ],
   "source": [
    "df.groupby('handcap').age_group.value_counts()"
   ]
  },
  {
   "cell_type": "markdown",
   "metadata": {},
   "source": [
    "### As shown above, the handcap level between 0 and 2 does not show an observable effect on the no-show rate across different age groups, while once the handcap level rises to 3 and 4, the no-show rate increased dramatically especially for the patients over 75. However, there is no enough data for the handcap level of 3 and 4. The observation remain discussible."
   ]
  },
  {
   "cell_type": "code",
   "execution_count": null,
   "metadata": {},
   "outputs": [],
   "source": []
  },
  {
   "cell_type": "markdown",
   "metadata": {},
   "source": [
    "<a id='conclusions'></a>\n",
    "## Conclusions\n",
    "\n",
    "In this analysis, this patients' appointments was investigated based on the patients' age, member or not of the Brazilian welfare system, appointment months, handcap levels, no-show rate, and whether they have received an sms appointment reminder. Three research questions were discussed as follows,\n",
    "\n",
    "1. How is the patients' age distributed?\n",
    "\n",
    "    The histogram above equally spaced the ages in an span of 10. As per the histogram above, the patients who made appointments are mainly at an age below 70, where each of those age groups have made more than 10,000 appointments.\n",
    "\n",
    "2. How is the age group distributed among the patients in and not in the Brazilian welfare system?\n",
    "\n",
    "    From the two pie charts, it is noted that the proportion of appointments made by the patients in the Brazilian welfare system over the age of 68 is nearly 1% only , whilst this proportion of appointments is considerably 11% among the patients without the welfare. No matter whether in the welfare system or not, patients at the age between 18 and 55 relate to the majority of the appointments.\n",
    "      \n",
    "\n",
    "3. What is the no-show rate of patients within appointment month, based on whether they received an SMS reminder or not?\n",
    "\n",
    "    The appointments of the database is focused in April, May and June. The no-show rate barely varies among these three months. However, it is observed that the no-show rate is increased by around 10% when patients receive an sms reminder.\n",
    "       \n",
    "\n",
    "4. Does the severity of the handicap affect the no-show rate of patients across different age groups?\n",
    "\n",
    "    As shown above, the handcap level between 0 and 2 does not show an observable effect on the no-show rate across different age groups, while once the handcap level rises to 3 and 4, the no-show rate increases dramatically especially for the patients over 75. However, there is no enough data for the handcap level of 3 and 4. The observation remains discussible.\n",
    "\n",
    "## Limitation\n",
    "\n",
    "It is observed that few appointments data are from the handcap levels of 3 and 4, some conclusions on the corresponding dimensions (e.g., the no-show rate related to handicap levels) still remain discussible and require a larger datasize.\n",
    "\n",
    "## Futurework\n",
    "\n",
    "In the current database, the column \"neighbourhood\" covers totally 81 hospital location names without a clear statistical clue. This makes the observation on the appointments data related to hospital locations barely achievable. Extra data columns (e.g., distance between residential and hospital locations, hospital size, etc) can be added into the database to complement the information.\n",
    "\n",
    "\n",
    "## Submitting your Project "
   ]
  },
  {
   "cell_type": "code",
   "execution_count": 50,
   "metadata": {
    "tags": []
   },
   "outputs": [
    {
     "name": "stdout",
     "output_type": "stream",
     "text": [
      "[NbConvertApp] Converting notebook Investigate_a_Dataset.ipynb to html\n",
      "[NbConvertApp] WARNING | Alternative text is missing on 4 image(s).\n",
      "[NbConvertApp] Writing 643095 bytes to Investigate_a_Dataset.html\n"
     ]
    }
   ],
   "source": [
    "# Running this cell will execute a bash command to convert this notebook to an .html file\n",
    "!python -m nbconvert --to html Investigate_a_Dataset.ipynb"
   ]
  },
  {
   "cell_type": "code",
   "execution_count": null,
   "metadata": {},
   "outputs": [],
   "source": []
  }
 ],
 "metadata": {
  "kernelspec": {
   "display_name": "Python 3 (ipykernel)",
   "language": "python",
   "name": "python3"
  },
  "language_info": {
   "codemirror_mode": {
    "name": "ipython",
    "version": 3
   },
   "file_extension": ".py",
   "mimetype": "text/x-python",
   "name": "python",
   "nbconvert_exporter": "python",
   "pygments_lexer": "ipython3",
   "version": "3.10.13"
  }
 },
 "nbformat": 4,
 "nbformat_minor": 4
}
